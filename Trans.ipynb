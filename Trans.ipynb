{
 "cells": [
  {
   "cell_type": "code",
   "execution_count": null,
   "id": "07926643",
   "metadata": {
    "colab": {
     "base_uri": "https://localhost:8080/"
    },
    "collapsed": true,
    "executionInfo": {
     "elapsed": 16784,
     "status": "ok",
     "timestamp": 1630010795466,
     "user": {
      "displayName": "Кирилл Ткачук",
      "photoUrl": "https://lh3.googleusercontent.com/a-/AOh14GjKncnXzXqqmkFRrl_yKGmhrPwuuUMyvEyDFaJJtA=s64",
      "userId": "01493003236252423609"
     },
     "user_tz": -180
    },
    "id": "T4ksUGWhqW4t",
    "jupyter": {
     "outputs_hidden": true
    },
    "outputId": "ccf8abf0-c2db-4084-c3f8-b2c0a702ee66",
    "tags": []
   },
   "outputs": [
    {
     "name": "stdout",
     "output_type": "stream",
     "text": [
      "Collecting torchtext==0.4.0\n",
      "  Downloading torchtext-0.4.0-py3-none-any.whl (53 kB)\n",
      "\u001b[K     |████████████████████████████████| 53 kB 1.8 MB/s  eta 0:00:01\n",
      "\u001b[?25hRequirement already satisfied: requests in /usr/local/lib/python3.7/dist-packages (from torchtext==0.4.0) (2.23.0)\n",
      "Requirement already satisfied: six in /usr/local/lib/python3.7/dist-packages (from torchtext==0.4.0) (1.15.0)\n",
      "Requirement already satisfied: numpy in /usr/local/lib/python3.7/dist-packages (from torchtext==0.4.0) (1.19.5)\n",
      "Requirement already satisfied: torch in /usr/local/lib/python3.7/dist-packages (from torchtext==0.4.0) (1.9.0+cu102)\n",
      "Requirement already satisfied: tqdm in /usr/local/lib/python3.7/dist-packages (from torchtext==0.4.0) (4.62.0)\n",
      "Requirement already satisfied: idna<3,>=2.5 in /usr/local/lib/python3.7/dist-packages (from requests->torchtext==0.4.0) (2.10)\n",
      "Requirement already satisfied: chardet<4,>=3.0.2 in /usr/local/lib/python3.7/dist-packages (from requests->torchtext==0.4.0) (3.0.4)\n",
      "Requirement already satisfied: certifi>=2017.4.17 in /usr/local/lib/python3.7/dist-packages (from requests->torchtext==0.4.0) (2021.5.30)\n",
      "Requirement already satisfied: urllib3!=1.25.0,!=1.25.1,<1.26,>=1.21.1 in /usr/local/lib/python3.7/dist-packages (from requests->torchtext==0.4.0) (1.24.3)\n",
      "Requirement already satisfied: typing-extensions in /usr/local/lib/python3.7/dist-packages (from torch->torchtext==0.4.0) (3.7.4.3)\n",
      "Installing collected packages: torchtext\n",
      "  Attempting uninstall: torchtext\n",
      "    Found existing installation: torchtext 0.10.0\n",
      "    Uninstalling torchtext-0.10.0:\n",
      "      Successfully uninstalled torchtext-0.10.0\n",
      "Successfully installed torchtext-0.4.0\n",
      "Collecting spacy==3.1.0\n",
      "  Downloading spacy-3.1.0-cp37-cp37m-manylinux_2_17_x86_64.manylinux2014_x86_64.whl (6.4 MB)\n",
      "\u001b[K     |████████████████████████████████| 6.4 MB 11.6 MB/s \n",
      "\u001b[?25hCollecting thinc<8.1.0,>=8.0.7\n",
      "  Downloading thinc-8.0.8-cp37-cp37m-manylinux_2_17_x86_64.manylinux2014_x86_64.whl (621 kB)\n",
      "\u001b[K     |████████████████████████████████| 621 kB 67.1 MB/s \n",
      "\u001b[?25hRequirement already satisfied: requests<3.0.0,>=2.13.0 in /usr/local/lib/python3.7/dist-packages (from spacy==3.1.0) (2.23.0)\n",
      "Requirement already satisfied: typing-extensions<4.0.0.0,>=3.7.4 in /usr/local/lib/python3.7/dist-packages (from spacy==3.1.0) (3.7.4.3)\n",
      "Collecting srsly<3.0.0,>=2.4.1\n",
      "  Downloading srsly-2.4.1-cp37-cp37m-manylinux2014_x86_64.whl (456 kB)\n",
      "\u001b[K     |████████████████████████████████| 456 kB 69.5 MB/s \n",
      "\u001b[?25hCollecting typer<0.4.0,>=0.3.0\n",
      "  Downloading typer-0.3.2-py3-none-any.whl (21 kB)\n",
      "Collecting pathy>=0.3.5\n",
      "  Downloading pathy-0.6.0-py3-none-any.whl (42 kB)\n",
      "\u001b[K     |████████████████████████████████| 42 kB 1.6 MB/s \n",
      "\u001b[?25hRequirement already satisfied: blis<0.8.0,>=0.4.0 in /usr/local/lib/python3.7/dist-packages (from spacy==3.1.0) (0.4.1)\n",
      "Requirement already satisfied: cymem<2.1.0,>=2.0.2 in /usr/local/lib/python3.7/dist-packages (from spacy==3.1.0) (2.0.5)\n",
      "Collecting catalogue<2.1.0,>=2.0.4\n",
      "  Downloading catalogue-2.0.6-py3-none-any.whl (17 kB)\n",
      "Requirement already satisfied: murmurhash<1.1.0,>=0.28.0 in /usr/local/lib/python3.7/dist-packages (from spacy==3.1.0) (1.0.5)\n",
      "Requirement already satisfied: jinja2 in /usr/local/lib/python3.7/dist-packages (from spacy==3.1.0) (2.11.3)\n",
      "Collecting spacy-legacy<3.1.0,>=3.0.7\n",
      "  Downloading spacy_legacy-3.0.8-py2.py3-none-any.whl (14 kB)\n",
      "Requirement already satisfied: numpy>=1.15.0 in /usr/local/lib/python3.7/dist-packages (from spacy==3.1.0) (1.19.5)\n",
      "Requirement already satisfied: setuptools in /usr/local/lib/python3.7/dist-packages (from spacy==3.1.0) (57.4.0)\n",
      "Requirement already satisfied: tqdm<5.0.0,>=4.38.0 in /usr/local/lib/python3.7/dist-packages (from spacy==3.1.0) (4.62.0)\n",
      "Requirement already satisfied: preshed<3.1.0,>=3.0.2 in /usr/local/lib/python3.7/dist-packages (from spacy==3.1.0) (3.0.5)\n",
      "Collecting pydantic!=1.8,!=1.8.1,<1.9.0,>=1.7.4\n",
      "  Downloading pydantic-1.8.2-cp37-cp37m-manylinux2014_x86_64.whl (10.1 MB)\n",
      "\u001b[K     |████████████████████████████████| 10.1 MB 61.0 MB/s \n",
      "\u001b[?25hRequirement already satisfied: wasabi<1.1.0,>=0.8.1 in /usr/local/lib/python3.7/dist-packages (from spacy==3.1.0) (0.8.2)\n",
      "Requirement already satisfied: packaging>=20.0 in /usr/local/lib/python3.7/dist-packages (from spacy==3.1.0) (21.0)\n",
      "Requirement already satisfied: zipp>=0.5 in /usr/local/lib/python3.7/dist-packages (from catalogue<2.1.0,>=2.0.4->spacy==3.1.0) (3.5.0)\n",
      "Requirement already satisfied: pyparsing>=2.0.2 in /usr/local/lib/python3.7/dist-packages (from packaging>=20.0->spacy==3.1.0) (2.4.7)\n",
      "Requirement already satisfied: smart-open<6.0.0,>=5.0.0 in /usr/local/lib/python3.7/dist-packages (from pathy>=0.3.5->spacy==3.1.0) (5.1.0)\n",
      "Requirement already satisfied: urllib3!=1.25.0,!=1.25.1,<1.26,>=1.21.1 in /usr/local/lib/python3.7/dist-packages (from requests<3.0.0,>=2.13.0->spacy==3.1.0) (1.24.3)\n",
      "Requirement already satisfied: certifi>=2017.4.17 in /usr/local/lib/python3.7/dist-packages (from requests<3.0.0,>=2.13.0->spacy==3.1.0) (2021.5.30)\n",
      "Requirement already satisfied: idna<3,>=2.5 in /usr/local/lib/python3.7/dist-packages (from requests<3.0.0,>=2.13.0->spacy==3.1.0) (2.10)\n",
      "Requirement already satisfied: chardet<4,>=3.0.2 in /usr/local/lib/python3.7/dist-packages (from requests<3.0.0,>=2.13.0->spacy==3.1.0) (3.0.4)\n",
      "Requirement already satisfied: click<7.2.0,>=7.1.1 in /usr/local/lib/python3.7/dist-packages (from typer<0.4.0,>=0.3.0->spacy==3.1.0) (7.1.2)\n",
      "Requirement already satisfied: MarkupSafe>=0.23 in /usr/local/lib/python3.7/dist-packages (from jinja2->spacy==3.1.0) (2.0.1)\n",
      "Installing collected packages: catalogue, typer, srsly, pydantic, thinc, spacy-legacy, pathy, spacy\n",
      "  Attempting uninstall: catalogue\n",
      "    Found existing installation: catalogue 1.0.0\n",
      "    Uninstalling catalogue-1.0.0:\n",
      "      Successfully uninstalled catalogue-1.0.0\n",
      "  Attempting uninstall: srsly\n",
      "    Found existing installation: srsly 1.0.5\n",
      "    Uninstalling srsly-1.0.5:\n",
      "      Successfully uninstalled srsly-1.0.5\n",
      "  Attempting uninstall: thinc\n",
      "    Found existing installation: thinc 7.4.0\n",
      "    Uninstalling thinc-7.4.0:\n",
      "      Successfully uninstalled thinc-7.4.0\n",
      "  Attempting uninstall: spacy\n",
      "    Found existing installation: spacy 2.2.4\n",
      "    Uninstalling spacy-2.2.4:\n",
      "      Successfully uninstalled spacy-2.2.4\n",
      "Successfully installed catalogue-2.0.6 pathy-0.6.0 pydantic-1.8.2 spacy-3.1.0 spacy-legacy-3.0.8 srsly-2.4.1 thinc-8.0.8 typer-0.3.2\n"
     ]
    }
   ],
   "source": [
    "!pip install torchtext==0.4.0\n",
    "!pip install spacy==3.1.0\n",
    "!pip install nltk"
   ]
  },
  {
   "cell_type": "code",
   "execution_count": 18,
   "id": "4621ef80",
   "metadata": {
    "colab": {
     "base_uri": "https://localhost:8080/"
    },
    "collapsed": true,
    "executionInfo": {
     "elapsed": 67900,
     "status": "ok",
     "timestamp": 1630010863360,
     "user": {
      "displayName": "Кирилл Ткачук",
      "photoUrl": "https://lh3.googleusercontent.com/a-/AOh14GjKncnXzXqqmkFRrl_yKGmhrPwuuUMyvEyDFaJJtA=s64",
      "userId": "01493003236252423609"
     },
     "user_tz": -180
    },
    "id": "qOYKGhhiucVv",
    "jupyter": {
     "outputs_hidden": true
    },
    "outputId": "7b90e261-4cb6-4dc9-fc27-395ac255e106",
    "tags": []
   },
   "outputs": [
    {
     "name": "stdout",
     "output_type": "stream",
     "text": [
      "Collecting en-core-web-lg==3.1.0\n",
      "  Downloading https://github.com/explosion/spacy-models/releases/download/en_core_web_lg-3.1.0/en_core_web_lg-3.1.0-py3-none-any.whl (777.1 MB)\n",
      "Requirement already satisfied: spacy<3.2.0,>=3.1.0 in /opt/homebrew/Caskroom/miniforge/base/envs/conda_env/lib/python3.8/site-packages (from en-core-web-lg==3.1.0) (3.1.1)\n",
      "Requirement already satisfied: pydantic!=1.8,!=1.8.1,<1.9.0,>=1.7.4 in /opt/homebrew/Caskroom/miniforge/base/envs/conda_env/lib/python3.8/site-packages (from spacy<3.2.0,>=3.1.0->en-core-web-lg==3.1.0) (1.8.2)\n",
      "Requirement already satisfied: spacy-legacy<3.1.0,>=3.0.7 in /opt/homebrew/Caskroom/miniforge/base/envs/conda_env/lib/python3.8/site-packages (from spacy<3.2.0,>=3.1.0->en-core-web-lg==3.1.0) (3.0.8)\n",
      "Requirement already satisfied: srsly<3.0.0,>=2.4.1 in /opt/homebrew/Caskroom/miniforge/base/envs/conda_env/lib/python3.8/site-packages (from spacy<3.2.0,>=3.1.0->en-core-web-lg==3.1.0) (2.4.1)\n",
      "Requirement already satisfied: thinc<8.1.0,>=8.0.8 in /opt/homebrew/Caskroom/miniforge/base/envs/conda_env/lib/python3.8/site-packages (from spacy<3.2.0,>=3.1.0->en-core-web-lg==3.1.0) (8.0.8)\n",
      "Requirement already satisfied: wasabi<1.1.0,>=0.8.1 in /opt/homebrew/Caskroom/miniforge/base/envs/conda_env/lib/python3.8/site-packages (from spacy<3.2.0,>=3.1.0->en-core-web-lg==3.1.0) (0.8.2)\n",
      "Requirement already satisfied: setuptools in /opt/homebrew/Caskroom/miniforge/base/envs/conda_env/lib/python3.8/site-packages (from spacy<3.2.0,>=3.1.0->en-core-web-lg==3.1.0) (49.6.0.post20210108)\n",
      "Requirement already satisfied: pathy>=0.3.5 in /opt/homebrew/Caskroom/miniforge/base/envs/conda_env/lib/python3.8/site-packages (from spacy<3.2.0,>=3.1.0->en-core-web-lg==3.1.0) (0.6.0)\n",
      "Requirement already satisfied: preshed<3.1.0,>=3.0.2 in /opt/homebrew/Caskroom/miniforge/base/envs/conda_env/lib/python3.8/site-packages (from spacy<3.2.0,>=3.1.0->en-core-web-lg==3.1.0) (3.0.5)\n",
      "Requirement already satisfied: catalogue<2.1.0,>=2.0.4 in /opt/homebrew/Caskroom/miniforge/base/envs/conda_env/lib/python3.8/site-packages (from spacy<3.2.0,>=3.1.0->en-core-web-lg==3.1.0) (2.0.4)\n",
      "Requirement already satisfied: packaging>=20.0 in /opt/homebrew/Caskroom/miniforge/base/envs/conda_env/lib/python3.8/site-packages (from spacy<3.2.0,>=3.1.0->en-core-web-lg==3.1.0) (21.0)\n",
      "Requirement already satisfied: tqdm<5.0.0,>=4.38.0 in /opt/homebrew/Caskroom/miniforge/base/envs/conda_env/lib/python3.8/site-packages (from spacy<3.2.0,>=3.1.0->en-core-web-lg==3.1.0) (4.62.1)\n",
      "Requirement already satisfied: murmurhash<1.1.0,>=0.28.0 in /opt/homebrew/Caskroom/miniforge/base/envs/conda_env/lib/python3.8/site-packages (from spacy<3.2.0,>=3.1.0->en-core-web-lg==3.1.0) (1.0.5)\n",
      "Requirement already satisfied: blis<0.8.0,>=0.4.0 in /opt/homebrew/Caskroom/miniforge/base/envs/conda_env/lib/python3.8/site-packages (from spacy<3.2.0,>=3.1.0->en-core-web-lg==3.1.0) (0.7.4)\n",
      "Requirement already satisfied: cymem<2.1.0,>=2.0.2 in /opt/homebrew/Caskroom/miniforge/base/envs/conda_env/lib/python3.8/site-packages (from spacy<3.2.0,>=3.1.0->en-core-web-lg==3.1.0) (2.0.5)\n",
      "Requirement already satisfied: numpy>=1.15.0 in /opt/homebrew/Caskroom/miniforge/base/envs/conda_env/lib/python3.8/site-packages (from spacy<3.2.0,>=3.1.0->en-core-web-lg==3.1.0) (1.21.0)\n",
      "Requirement already satisfied: typer<0.4.0,>=0.3.0 in /opt/homebrew/Caskroom/miniforge/base/envs/conda_env/lib/python3.8/site-packages (from spacy<3.2.0,>=3.1.0->en-core-web-lg==3.1.0) (0.3.2)\n",
      "Requirement already satisfied: jinja2 in /opt/homebrew/Caskroom/miniforge/base/envs/conda_env/lib/python3.8/site-packages (from spacy<3.2.0,>=3.1.0->en-core-web-lg==3.1.0) (3.0.1)\n",
      "Requirement already satisfied: requests<3.0.0,>=2.13.0 in /opt/homebrew/Caskroom/miniforge/base/envs/conda_env/lib/python3.8/site-packages (from spacy<3.2.0,>=3.1.0->en-core-web-lg==3.1.0) (2.25.1)\n",
      "Requirement already satisfied: pyparsing>=2.0.2 in /opt/homebrew/Caskroom/miniforge/base/envs/conda_env/lib/python3.8/site-packages (from packaging>=20.0->spacy<3.2.0,>=3.1.0->en-core-web-lg==3.1.0) (2.4.7)\n",
      "Requirement already satisfied: smart-open<6.0.0,>=5.0.0 in /opt/homebrew/Caskroom/miniforge/base/envs/conda_env/lib/python3.8/site-packages (from pathy>=0.3.5->spacy<3.2.0,>=3.1.0->en-core-web-lg==3.1.0) (5.1.0)\n",
      "Requirement already satisfied: typing-extensions>=3.7.4.3 in /opt/homebrew/Caskroom/miniforge/base/envs/conda_env/lib/python3.8/site-packages (from pydantic!=1.8,!=1.8.1,<1.9.0,>=1.7.4->spacy<3.2.0,>=3.1.0->en-core-web-lg==3.1.0) (3.10.0.0)\n",
      "Requirement already satisfied: certifi>=2017.4.17 in /opt/homebrew/Caskroom/miniforge/base/envs/conda_env/lib/python3.8/site-packages (from requests<3.0.0,>=2.13.0->spacy<3.2.0,>=3.1.0->en-core-web-lg==3.1.0) (2021.5.30)\n",
      "Requirement already satisfied: urllib3<1.27,>=1.21.1 in /opt/homebrew/Caskroom/miniforge/base/envs/conda_env/lib/python3.8/site-packages (from requests<3.0.0,>=2.13.0->spacy<3.2.0,>=3.1.0->en-core-web-lg==3.1.0) (1.26.6)\n",
      "Requirement already satisfied: idna<3,>=2.5 in /opt/homebrew/Caskroom/miniforge/base/envs/conda_env/lib/python3.8/site-packages (from requests<3.0.0,>=2.13.0->spacy<3.2.0,>=3.1.0->en-core-web-lg==3.1.0) (2.10)\n",
      "Requirement already satisfied: chardet<5,>=3.0.2 in /opt/homebrew/Caskroom/miniforge/base/envs/conda_env/lib/python3.8/site-packages (from requests<3.0.0,>=2.13.0->spacy<3.2.0,>=3.1.0->en-core-web-lg==3.1.0) (4.0.0)\n",
      "Requirement already satisfied: click<7.2.0,>=7.1.1 in /opt/homebrew/Caskroom/miniforge/base/envs/conda_env/lib/python3.8/site-packages (from typer<0.4.0,>=0.3.0->spacy<3.2.0,>=3.1.0->en-core-web-lg==3.1.0) (7.1.2)\n",
      "Requirement already satisfied: MarkupSafe>=2.0 in /opt/homebrew/Caskroom/miniforge/base/envs/conda_env/lib/python3.8/site-packages (from jinja2->spacy<3.2.0,>=3.1.0->en-core-web-lg==3.1.0) (2.0.1)\n",
      "\u001b[38;5;2m✔ Download and installation successful\u001b[0m\n",
      "You can now load the package via spacy.load('en_core_web_lg')\n",
      "Collecting ru-core-news-lg==3.1.0\n",
      "  Downloading https://github.com/explosion/spacy-models/releases/download/ru_core_news_lg-3.1.0/ru_core_news_lg-3.1.0-py3-none-any.whl (514.2 MB)\n",
      "Requirement already satisfied: spacy<3.2.0,>=3.1.0 in /opt/homebrew/Caskroom/miniforge/base/envs/conda_env/lib/python3.8/site-packages (from ru-core-news-lg==3.1.0) (3.1.1)\n",
      "Requirement already satisfied: pymorphy2>=0.9 in /opt/homebrew/Caskroom/miniforge/base/envs/conda_env/lib/python3.8/site-packages (from ru-core-news-lg==3.1.0) (0.9.1)\n",
      "Requirement already satisfied: dawg-python>=0.7.1 in /opt/homebrew/Caskroom/miniforge/base/envs/conda_env/lib/python3.8/site-packages (from pymorphy2>=0.9->ru-core-news-lg==3.1.0) (0.7.2)\n",
      "Requirement already satisfied: docopt>=0.6 in /opt/homebrew/Caskroom/miniforge/base/envs/conda_env/lib/python3.8/site-packages (from pymorphy2>=0.9->ru-core-news-lg==3.1.0) (0.6.2)\n",
      "Requirement already satisfied: pymorphy2-dicts-ru<3.0,>=2.4 in /opt/homebrew/Caskroom/miniforge/base/envs/conda_env/lib/python3.8/site-packages (from pymorphy2>=0.9->ru-core-news-lg==3.1.0) (2.4.417127.4579844)\n",
      "Requirement already satisfied: blis<0.8.0,>=0.4.0 in /opt/homebrew/Caskroom/miniforge/base/envs/conda_env/lib/python3.8/site-packages (from spacy<3.2.0,>=3.1.0->ru-core-news-lg==3.1.0) (0.7.4)\n",
      "Requirement already satisfied: catalogue<2.1.0,>=2.0.4 in /opt/homebrew/Caskroom/miniforge/base/envs/conda_env/lib/python3.8/site-packages (from spacy<3.2.0,>=3.1.0->ru-core-news-lg==3.1.0) (2.0.4)\n",
      "Requirement already satisfied: cymem<2.1.0,>=2.0.2 in /opt/homebrew/Caskroom/miniforge/base/envs/conda_env/lib/python3.8/site-packages (from spacy<3.2.0,>=3.1.0->ru-core-news-lg==3.1.0) (2.0.5)\n",
      "Requirement already satisfied: typer<0.4.0,>=0.3.0 in /opt/homebrew/Caskroom/miniforge/base/envs/conda_env/lib/python3.8/site-packages (from spacy<3.2.0,>=3.1.0->ru-core-news-lg==3.1.0) (0.3.2)\n",
      "Requirement already satisfied: packaging>=20.0 in /opt/homebrew/Caskroom/miniforge/base/envs/conda_env/lib/python3.8/site-packages (from spacy<3.2.0,>=3.1.0->ru-core-news-lg==3.1.0) (21.0)\n",
      "Requirement already satisfied: wasabi<1.1.0,>=0.8.1 in /opt/homebrew/Caskroom/miniforge/base/envs/conda_env/lib/python3.8/site-packages (from spacy<3.2.0,>=3.1.0->ru-core-news-lg==3.1.0) (0.8.2)\n",
      "Requirement already satisfied: preshed<3.1.0,>=3.0.2 in /opt/homebrew/Caskroom/miniforge/base/envs/conda_env/lib/python3.8/site-packages (from spacy<3.2.0,>=3.1.0->ru-core-news-lg==3.1.0) (3.0.5)\n",
      "Requirement already satisfied: pathy>=0.3.5 in /opt/homebrew/Caskroom/miniforge/base/envs/conda_env/lib/python3.8/site-packages (from spacy<3.2.0,>=3.1.0->ru-core-news-lg==3.1.0) (0.6.0)\n",
      "Requirement already satisfied: tqdm<5.0.0,>=4.38.0 in /opt/homebrew/Caskroom/miniforge/base/envs/conda_env/lib/python3.8/site-packages (from spacy<3.2.0,>=3.1.0->ru-core-news-lg==3.1.0) (4.62.1)\n",
      "Requirement already satisfied: thinc<8.1.0,>=8.0.8 in /opt/homebrew/Caskroom/miniforge/base/envs/conda_env/lib/python3.8/site-packages (from spacy<3.2.0,>=3.1.0->ru-core-news-lg==3.1.0) (8.0.8)\n",
      "Requirement already satisfied: setuptools in /opt/homebrew/Caskroom/miniforge/base/envs/conda_env/lib/python3.8/site-packages (from spacy<3.2.0,>=3.1.0->ru-core-news-lg==3.1.0) (49.6.0.post20210108)\n",
      "Requirement already satisfied: requests<3.0.0,>=2.13.0 in /opt/homebrew/Caskroom/miniforge/base/envs/conda_env/lib/python3.8/site-packages (from spacy<3.2.0,>=3.1.0->ru-core-news-lg==3.1.0) (2.25.1)\n",
      "Requirement already satisfied: srsly<3.0.0,>=2.4.1 in /opt/homebrew/Caskroom/miniforge/base/envs/conda_env/lib/python3.8/site-packages (from spacy<3.2.0,>=3.1.0->ru-core-news-lg==3.1.0) (2.4.1)\n",
      "Requirement already satisfied: numpy>=1.15.0 in /opt/homebrew/Caskroom/miniforge/base/envs/conda_env/lib/python3.8/site-packages (from spacy<3.2.0,>=3.1.0->ru-core-news-lg==3.1.0) (1.21.0)\n",
      "Requirement already satisfied: pydantic!=1.8,!=1.8.1,<1.9.0,>=1.7.4 in /opt/homebrew/Caskroom/miniforge/base/envs/conda_env/lib/python3.8/site-packages (from spacy<3.2.0,>=3.1.0->ru-core-news-lg==3.1.0) (1.8.2)\n",
      "Requirement already satisfied: jinja2 in /opt/homebrew/Caskroom/miniforge/base/envs/conda_env/lib/python3.8/site-packages (from spacy<3.2.0,>=3.1.0->ru-core-news-lg==3.1.0) (3.0.1)\n",
      "Requirement already satisfied: murmurhash<1.1.0,>=0.28.0 in /opt/homebrew/Caskroom/miniforge/base/envs/conda_env/lib/python3.8/site-packages (from spacy<3.2.0,>=3.1.0->ru-core-news-lg==3.1.0) (1.0.5)\n",
      "Requirement already satisfied: spacy-legacy<3.1.0,>=3.0.7 in /opt/homebrew/Caskroom/miniforge/base/envs/conda_env/lib/python3.8/site-packages (from spacy<3.2.0,>=3.1.0->ru-core-news-lg==3.1.0) (3.0.8)\n",
      "Requirement already satisfied: pyparsing>=2.0.2 in /opt/homebrew/Caskroom/miniforge/base/envs/conda_env/lib/python3.8/site-packages (from packaging>=20.0->spacy<3.2.0,>=3.1.0->ru-core-news-lg==3.1.0) (2.4.7)\n",
      "Requirement already satisfied: smart-open<6.0.0,>=5.0.0 in /opt/homebrew/Caskroom/miniforge/base/envs/conda_env/lib/python3.8/site-packages (from pathy>=0.3.5->spacy<3.2.0,>=3.1.0->ru-core-news-lg==3.1.0) (5.1.0)\n",
      "Requirement already satisfied: typing-extensions>=3.7.4.3 in /opt/homebrew/Caskroom/miniforge/base/envs/conda_env/lib/python3.8/site-packages (from pydantic!=1.8,!=1.8.1,<1.9.0,>=1.7.4->spacy<3.2.0,>=3.1.0->ru-core-news-lg==3.1.0) (3.10.0.0)\n",
      "Requirement already satisfied: idna<3,>=2.5 in /opt/homebrew/Caskroom/miniforge/base/envs/conda_env/lib/python3.8/site-packages (from requests<3.0.0,>=2.13.0->spacy<3.2.0,>=3.1.0->ru-core-news-lg==3.1.0) (2.10)\n",
      "Requirement already satisfied: certifi>=2017.4.17 in /opt/homebrew/Caskroom/miniforge/base/envs/conda_env/lib/python3.8/site-packages (from requests<3.0.0,>=2.13.0->spacy<3.2.0,>=3.1.0->ru-core-news-lg==3.1.0) (2021.5.30)\n",
      "Requirement already satisfied: urllib3<1.27,>=1.21.1 in /opt/homebrew/Caskroom/miniforge/base/envs/conda_env/lib/python3.8/site-packages (from requests<3.0.0,>=2.13.0->spacy<3.2.0,>=3.1.0->ru-core-news-lg==3.1.0) (1.26.6)\n",
      "Requirement already satisfied: chardet<5,>=3.0.2 in /opt/homebrew/Caskroom/miniforge/base/envs/conda_env/lib/python3.8/site-packages (from requests<3.0.0,>=2.13.0->spacy<3.2.0,>=3.1.0->ru-core-news-lg==3.1.0) (4.0.0)\n",
      "Requirement already satisfied: click<7.2.0,>=7.1.1 in /opt/homebrew/Caskroom/miniforge/base/envs/conda_env/lib/python3.8/site-packages (from typer<0.4.0,>=0.3.0->spacy<3.2.0,>=3.1.0->ru-core-news-lg==3.1.0) (7.1.2)\n",
      "Requirement already satisfied: MarkupSafe>=2.0 in /opt/homebrew/Caskroom/miniforge/base/envs/conda_env/lib/python3.8/site-packages (from jinja2->spacy<3.2.0,>=3.1.0->ru-core-news-lg==3.1.0) (2.0.1)\n",
      "\u001b[38;5;2m✔ Download and installation successful\u001b[0m\n",
      "You can now load the package via spacy.load('ru_core_news_lg')\n"
     ]
    }
   ],
   "source": [
    "import spacy.cli\n",
    "spacy.cli.download(\"en_core_web_lg\")\n",
    "spacy.cli.download(\"ru_core_news_lg\")"
   ]
  },
  {
   "cell_type": "code",
   "execution_count": null,
   "id": "1341c751",
   "metadata": {
    "colab": {
     "base_uri": "https://localhost:8080/"
    },
    "executionInfo": {
     "elapsed": 74877,
     "status": "ok",
     "timestamp": 1630010938231,
     "user": {
      "displayName": "Кирилл Ткачук",
      "photoUrl": "https://lh3.googleusercontent.com/a-/AOh14GjKncnXzXqqmkFRrl_yKGmhrPwuuUMyvEyDFaJJtA=s64",
      "userId": "01493003236252423609"
     },
     "user_tz": -180
    },
    "id": "8bClWNkX4R_U",
    "outputId": "a74fb89c-63a7-44bf-e920-37f178d356ae"
   },
   "outputs": [
    {
     "name": "stdout",
     "output_type": "stream",
     "text": [
      "Mounted at /content/drive\n"
     ]
    }
   ],
   "source": [
    "from google.colab import drive\n",
    "drive.mount('/content/drive')"
   ]
  },
  {
   "cell_type": "code",
   "execution_count": 189,
   "id": "68c81e3e",
   "metadata": {
    "id": "072c0138"
   },
   "outputs": [],
   "source": [
    "import torch\n",
    "import torch.nn as nn\n",
    "import torch.optim as optim\n",
    "\n",
    "from torch.utils.data import random_split\n",
    "from torchtext.data import Field, BucketIterator, TabularDataset, interleave_keys\n",
    "\n",
    "import spacy\n",
    "import random\n",
    "import time\n",
    "import math\n",
    "import csv\n",
    "\n",
    "BATCH_SIZE = 8\n",
    "\n",
    "nlp_en = spacy.load('en_core_web_lg')\n",
    "nlp_ru = spacy.load('ru_core_news_lg')\n",
    "\n",
    "\n",
    "def tokenizer(text, nlp):\n",
    "    return [token.text for token in nlp.tokenizer(text)]\n",
    "\n",
    "def tokenizer_ru(text):\n",
    "    return tokenizer(text, nlp_ru)\n",
    "\n",
    "def tokenizer_en(text):\n",
    "    return list(reversed(tokenizer(text, nlp_en)))\n",
    "\n",
    "src = Field(\n",
    "    init_token='<sos>',\n",
    "    eos_token='<eos>',\n",
    "    tokenize=tokenizer_ru,\n",
    "    lower=True,\n",
    ")\n",
    "\n",
    "trg = Field(\n",
    "    init_token='<sos>',\n",
    "    eos_token='<eos>',\n",
    "    tokenize=tokenizer_en,\n",
    "    lower=True,\n",
    "   # is_target=True,\n",
    ")"
   ]
  },
  {
   "cell_type": "code",
   "execution_count": 190,
   "id": "de79f7c2",
   "metadata": {
    "id": "bf72c19b"
   },
   "outputs": [],
   "source": [
    "dataset = TabularDataset(\n",
    "    path='./drive/MyDrive/data/translation.csv', \n",
    "    format='csv', \n",
    "    fields=[('ru', src),('en', trg)],\n",
    "    csv_reader_params={'delimiter': '|'})"
   ]
  },
  {
   "cell_type": "code",
   "execution_count": 191,
   "id": "255a4f39",
   "metadata": {
    "id": "e53a5079"
   },
   "outputs": [],
   "source": [
    "src.build_vocab(dataset, min_freq = 2)\n",
    "trg.build_vocab(dataset, min_freq = 2)"
   ]
  },
  {
   "cell_type": "code",
   "execution_count": 192,
   "id": "293ac5db",
   "metadata": {
    "id": "62703bad"
   },
   "outputs": [],
   "source": [
    "train_dataset, test_dataset, valid_dataset, check_dataset = random_split(\n",
    "    dataset, lengths=[220536,63028,31514, 64],\n",
    "    generator=torch.Generator().manual_seed(42))\n",
    "train_dataset.fields = dataset.fields\n",
    "test_dataset.fields = dataset.fields\n",
    "valid_dataset.fields = dataset.fields\n",
    "check_dataset.fields = dataset.fields"
   ]
  },
  {
   "cell_type": "code",
   "execution_count": 193,
   "id": "1e8fc150",
   "metadata": {
    "id": "ygVo7QJx3Kfr"
   },
   "outputs": [],
   "source": [
    "device = torch.device('cuda' if torch.cuda.is_available() else 'cpu')"
   ]
  },
  {
   "cell_type": "code",
   "execution_count": 194,
   "id": "6cd7108b",
   "metadata": {
    "id": "e577c9a4"
   },
   "outputs": [],
   "source": [
    "train_iterator, test_iterator, valid_iterator, check_iterator = BucketIterator.splits(\n",
    "    datasets=(train_dataset, test_dataset, valid_dataset, check_dataset),\n",
    "    batch_size=BATCH_SIZE,\n",
    "    sort_key=lambda x: interleave_keys(len(x.ru), len(x.en)),\n",
    "    shuffle=True,\n",
    "    device=device)"
   ]
  },
  {
   "cell_type": "code",
   "execution_count": 195,
   "id": "5047d397",
   "metadata": {
    "id": "a9d37612"
   },
   "outputs": [],
   "source": [
    "class Encoder(nn.Module):\n",
    "    def __init__(self, input_dim, emb_dim, hid_dim, n_layers, dropout):\n",
    "        super().__init__()\n",
    "        \n",
    "        self.input_dim = input_dim\n",
    "        self.emb_dim = emb_dim\n",
    "        self.hid_dim = hid_dim\n",
    "        self.n_layers = n_layers\n",
    "        \n",
    "        self.embedding = nn.Embedding(input_dim, emb_dim, padding_idx=src.vocab['<pad>'])\n",
    "        \n",
    "        self.rnn = nn.LSTM(emb_dim, hid_dim, num_layers=n_layers, dropout=dropout)\n",
    "        \n",
    "    def forward(self, src):\n",
    "        embedded = self.embedding(src)\n",
    "        _, (hidden, cell) = self.rnn(embedded)\n",
    "        return hidden, cell"
   ]
  },
  {
   "cell_type": "code",
   "execution_count": 196,
   "id": "40201777",
   "metadata": {
    "id": "fb04bda6"
   },
   "outputs": [],
   "source": [
    "class Decoder(nn.Module):\n",
    "    def __init__(self, output_dim, emb_dim, hid_dim, n_layers, dropout):\n",
    "        super().__init__()\n",
    "\n",
    "        self.emb_dim = emb_dim\n",
    "        self.hid_dim = hid_dim\n",
    "        self.output_dim = output_dim\n",
    "        self.n_layers = n_layers\n",
    "        \n",
    "        self.embedding = nn.Embedding(output_dim, emb_dim) \n",
    "        self.rnn = nn.LSTM(emb_dim, hid_dim, num_layers=n_layers, dropout=dropout)  \n",
    "        self.out = nn.Linear(hid_dim, output_dim)\n",
    "        \n",
    "    def forward(self, input, hidden, cell):\n",
    "        input = input.unsqueeze(0) \n",
    "        embedded = self.embedding(input)\n",
    "        output, (hidden, cell) = self.rnn(embedded, (hidden, cell))\n",
    "        return self.out(output.squeeze(0)), hidden, cell"
   ]
  },
  {
   "cell_type": "code",
   "execution_count": 197,
   "id": "f9c87924",
   "metadata": {
    "id": "749ea2fa"
   },
   "outputs": [],
   "source": [
    "class Seq2Seq(nn.Module):\n",
    "    def __init__(self, encoder, decoder):\n",
    "        super().__init__()\n",
    "        \n",
    "        self.encoder = encoder\n",
    "        self.decoder = decoder\n",
    "        self.device = device\n",
    "        \n",
    "    def forward(self, src = None, trg = None, teacher_forcing_ratio = 0.5):\n",
    "        if trg is None:\n",
    "            batch_size = src.shape[1]\n",
    "            max_len = src.shape[0]\n",
    "        else:\n",
    "            batch_size = trg.shape[1]\n",
    "            max_len = trg.shape[0]\n",
    "        trg_vocab_size = self.decoder.output_dim\n",
    "        \n",
    "        outputs = torch.zeros(max_len, batch_size, trg_vocab_size).to(device)\n",
    "    \n",
    "        hidden, cell = self.encoder(src)\n",
    "        \n",
    "        input = trg[0,:] # <sos> index\n",
    "        \n",
    "        for t in range(1, max_len):\n",
    "            output, hidden, cell = self.decoder(input, hidden, cell)\n",
    "            outputs[t] = output\n",
    "            top1 = output.max(1)[1]\n",
    "            input = top1 if random.random() > teacher_forcing_ratio else trg[t]\n",
    "        \n",
    "        return outputs"
   ]
  },
  {
   "cell_type": "code",
   "execution_count": 198,
   "id": "fb9fdcbf",
   "metadata": {
    "id": "0b59c979"
   },
   "outputs": [],
   "source": [
    "INPUT_DIM = len(src.vocab)\n",
    "OUTPUT_DIM = len(trg.vocab)\n",
    "ENC_EMB_DIM = 256\n",
    "DEC_EMB_DIM = 256\n",
    "HID_DIM = 512\n",
    "N_LAYERS = 2\n",
    "ENC_DROPOUT = 0.5\n",
    "DEC_DROPOUT = 0.5\n",
    "\n",
    "enc = Encoder(INPUT_DIM, ENC_EMB_DIM, HID_DIM, N_LAYERS, ENC_DROPOUT)\n",
    "dec = Decoder(OUTPUT_DIM, DEC_EMB_DIM, HID_DIM, N_LAYERS, DEC_DROPOUT)\n",
    "\n",
    "model = Seq2Seq(enc, dec).to(device)"
   ]
  },
  {
   "cell_type": "code",
   "execution_count": 199,
   "id": "09179ab0",
   "metadata": {
    "colab": {
     "base_uri": "https://localhost:8080/"
    },
    "executionInfo": {
     "elapsed": 16,
     "status": "ok",
     "timestamp": 1630011028815,
     "user": {
      "displayName": "Кирилл Ткачук",
      "photoUrl": "https://lh3.googleusercontent.com/a-/AOh14GjKncnXzXqqmkFRrl_yKGmhrPwuuUMyvEyDFaJJtA=s64",
      "userId": "01493003236252423609"
     },
     "user_tz": -180
    },
    "id": "4d26641f",
    "outputId": "2050974e-867e-4135-8a4a-03246aa133c9"
   },
   "outputs": [
    {
     "data": {
      "text/plain": [
       "Seq2Seq(\n",
       "  (encoder): Encoder(\n",
       "    (embedding): Embedding(94691, 256, padding_idx=1)\n",
       "    (rnn): LSTM(256, 512, num_layers=2, dropout=0.5)\n",
       "  )\n",
       "  (decoder): Decoder(\n",
       "    (embedding): Embedding(76275, 256)\n",
       "    (rnn): LSTM(256, 512, num_layers=2, dropout=0.5)\n",
       "    (out): Linear(in_features=512, out_features=76275, bias=True)\n",
       "  )\n",
       ")"
      ]
     },
     "execution_count": 199,
     "metadata": {},
     "output_type": "execute_result"
    }
   ],
   "source": [
    "def init_weights(m):\n",
    "    for name, params in m.named_parameters():\n",
    "        torch.nn.init.uniform_(params, -0.08, 0.08)\n",
    "        \n",
    "model.apply(init_weights)"
   ]
  },
  {
   "cell_type": "code",
   "execution_count": 200,
   "id": "f3c1098f",
   "metadata": {
    "colab": {
     "base_uri": "https://localhost:8080/"
    },
    "executionInfo": {
     "elapsed": 12,
     "status": "ok",
     "timestamp": 1630011028815,
     "user": {
      "displayName": "Кирилл Ткачук",
      "photoUrl": "https://lh3.googleusercontent.com/a-/AOh14GjKncnXzXqqmkFRrl_yKGmhrPwuuUMyvEyDFaJJtA=s64",
      "userId": "01493003236252423609"
     },
     "user_tz": -180
    },
    "id": "c4590a5b",
    "outputId": "0f97fa64-71af-4e31-9795-d1db78d160b9"
   },
   "outputs": [
    {
     "name": "stdout",
     "output_type": "stream",
     "text": [
      "The model has 90,252,787 trainable parameters\n"
     ]
    }
   ],
   "source": [
    "def count_parameters(model):\n",
    "    return sum(p.numel() for p in model.parameters() if p.requires_grad)\n",
    "\n",
    "print(f'The model has {count_parameters(model):,} trainable parameters')"
   ]
  },
  {
   "cell_type": "code",
   "execution_count": 201,
   "id": "169e773d",
   "metadata": {
    "id": "bc0d8c7c"
   },
   "outputs": [],
   "source": [
    "optimizer = optim.Adam(model.parameters())\n",
    "criterion = nn.CrossEntropyLoss(ignore_index = trg.vocab['<pad>'])"
   ]
  },
  {
   "cell_type": "code",
   "execution_count": 202,
   "id": "0640466f",
   "metadata": {},
   "outputs": [],
   "source": [
    "from nltk.translate.bleu_score import sentence_bleu\n",
    "\n",
    "def to_trg_sentence(t):\n",
    "    return [[trg.vocab.itos[i] for i in row] for row in t]\n",
    "\n",
    "def word_index_from_logits(logits):\n",
    "    return logits.topk(k=1).indices\n",
    "\n",
    "def reshape_word_index(target, batch_size):\n",
    "    sent_len = int(target.shape[0] / batch_size)\n",
    "    return torch.transpose(target.reshape((batch_size, sent_len)), 0, 1)\n",
    "\n",
    "def bleu_score(logits, targets, batch_size):\n",
    "    candidate_sentences = to_trg_sentence(\n",
    "        reshape_word_index(word_index_from_logits(logits), batch_size))\n",
    "    reference_sentences = to_trg_sentence(\n",
    "        reshape_word_index(targets, batch_size)\n",
    "    )\n",
    "    bleu_sent_scores = []\n",
    "    for i, candidate_sentence in enumerate(candidate_sentences):\n",
    "        bleu_sent_scores.append(sentence_bleu([reference_sentences[i]], candidate_sentence,weights=(0.33,0.33,0.33)))\n",
    "    return bleu_sent_scores"
   ]
  },
  {
   "cell_type": "code",
   "execution_count": 205,
   "id": "6844f670",
   "metadata": {
    "id": "8d2c46e5"
   },
   "outputs": [],
   "source": [
    "def evaluate(model, iterator, criterion):\n",
    "    \n",
    "    model.eval()\n",
    "    \n",
    "    epoch_loss = 0\n",
    "    epoch_bleu = 0\n",
    "\n",
    "    with torch.no_grad():\n",
    "    \n",
    "        for i, batch in enumerate(iterator):\n",
    "\n",
    "            src = batch.ru\n",
    "            trg = batch.en\n",
    "\n",
    "            output = model(src, trg, 0)\n",
    "            batch_size = output.shape[1]\n",
    "\n",
    "\n",
    "            output = output[1:].view(-1, output.shape[-1])\n",
    "            trg = trg[1:].view(-1)\n",
    "            \n",
    "            loss = criterion(output, trg)\n",
    "            epoch_bleu += sum(bleu_score(output, trg, batch_size))\n",
    "            epoch_loss += loss.item()\n",
    "        \n",
    "    return epoch_loss / len(iterator), epoch_bleu / len(iterator)"
   ]
  },
  {
   "cell_type": "code",
   "execution_count": 206,
   "id": "bf796101",
   "metadata": {
    "id": "e8e10f32"
   },
   "outputs": [],
   "source": [
    "from tqdm import tqdm\n",
    "\n",
    "PLOT_STEP = 0\n",
    "\n",
    "def train(model, iterator, optimizer, criterion, clip):\n",
    "    global PLOT_STEP\n",
    "    model.train()\n",
    "    \n",
    "    epoch_loss = 0\n",
    "    epoch_history = []\n",
    "    for i, batch in enumerate(tqdm(iterator)):\n",
    "        \n",
    "        src = batch.ru\n",
    "        trg = batch.en\n",
    "        \n",
    "        optimizer.zero_grad()\n",
    "        \n",
    "        output = model(src, trg)\n",
    "        \n",
    "        output = output[1:].view(-1, output.shape[-1])\n",
    "        trg = trg[1:].view(-1)\n",
    "        \n",
    "        loss = criterion(output, trg)\n",
    "        \n",
    "        loss.backward()\n",
    "        \n",
    "        torch.nn.utils.clip_grad_norm_(model.parameters(), clip)\n",
    "        \n",
    "        optimizer.step()\n",
    "        \n",
    "        epoch_loss += loss.item()\n",
    "        \n",
    "        epoch_history.append(loss.cpu().data.numpy())\n",
    "        \n",
    "    return epoch_loss / len(iterator), epoch_history"
   ]
  },
  {
   "cell_type": "code",
   "execution_count": 209,
   "id": "8d98713b",
   "metadata": {
    "id": "80c55101"
   },
   "outputs": [],
   "source": [
    "import time\n",
    "import math\n",
    "\n",
    "def epoch_time(start_time, end_time):\n",
    "    elapsed_time = end_time - start_time\n",
    "    elapsed_mins = int(elapsed_time / 60)\n",
    "    elapsed_secs = int(elapsed_time - (elapsed_mins * 60))\n",
    "    return elapsed_mins, elapsed_secs\n",
    "\n",
    "def train_with_evaluation(model, epoch_num, optimizer, criterion, clip, train_iterator, test_iterator, writer):\n",
    "    train_history = []\n",
    "    test_history = []\n",
    "    train_epoch_history = []\n",
    "    test_bleu = []\n",
    "    best_valid_loss = 9999.99\n",
    "    \n",
    "    for epoch in range(epoch_num):\n",
    "    \n",
    "        start_time = time.time()\n",
    "\n",
    "        train_loss, epoch_history = train(model, train_iterator, optimizer, criterion, clip)\n",
    "        valid_loss, epoch_bleu = evaluate(model, test_iterator, criterion)\n",
    "        \n",
    "        end_time = time.time()\n",
    "\n",
    "        epoch_mins, epoch_secs = epoch_time(start_time, end_time)\n",
    "\n",
    "        if valid_loss < best_valid_loss:\n",
    "            best_valid_loss = valid_loss\n",
    "            torch.save(model.state_dict(), 'tut1-model.pt')\n",
    "\n",
    "        train_history.append(train_loss)\n",
    "        test_history.append(valid_loss)\n",
    "        train_epoch_history.append(epoch_history)\n",
    "        test_bleu.append(epoch_bleu)\n",
    "\n",
    "        writer.writerow(\n",
    "            (epoch+1,                           # epoch num\n",
    "             f'{epoch_mins}:{epoch_secs}',      # epoch time\n",
    "             f'{train_loss:.3f}',               # train loss\n",
    "             f'{math.exp(train_loss):7.3f}',    # ppl train\n",
    "             f'{valid_loss:.3f}',               # valid loss\n",
    "             f'{math.exp(valid_loss):7.3f}',    # ppl valid\n",
    "             f'{epoch_bleu:.3f}'))              # valid bleu\n",
    "        \n",
    "        print(f'Epoch: {epoch+1:02} | Time: {epoch_mins}m {epoch_secs}s')\n",
    "        print(f'\\tTrain Loss: {train_loss:.3f} | Train PPL: {math.exp(train_loss):7.3f}')\n",
    "        print(f'\\t Val. Loss: {valid_loss:.3f} |  Val. PPL: {math.exp(valid_loss):7.3f}')\n",
    "        print(f'\\t Val. Avg. BLEU: {epoch_bleu:.3f}')\n",
    "    return train_history, test_history, train_epoch_history, test_bleu"
   ]
  },
  {
   "cell_type": "code",
   "execution_count": 210,
   "id": "5c5c11da",
   "metadata": {
    "colab": {
     "background_save": true,
     "base_uri": "https://localhost:8080/"
    },
    "id": "ce4ce275"
   },
   "outputs": [
    {
     "name": "stderr",
     "output_type": "stream",
     "text": [
      "100%|██████████████████████████████████████████████████████████████████████████████████████████████████████████████████████████████████████████████████| 8/8 [00:48<00:00,  6.10s/it]\n"
     ]
    },
    {
     "name": "stdout",
     "output_type": "stream",
     "text": [
      "Epoch: 01 | Time: 0m 53s\n",
      "\tTrain Loss: 6.774 | Train PPL: 874.791\n",
      "\t Val. Loss: 5.813 |  Val. PPL: 334.580\n",
      "\t Val. Avg. BLEU: 0.000\n"
     ]
    }
   ],
   "source": [
    "CLIP = 1.0\n",
    "EPOCH_N = 10\n",
    "METRICS_FILE = 'metrics.csv'\n",
    "\n",
    "with open(METRICS_FILE,'w') as file:\n",
    "    csvwriter = csv.writer(file, delimiter=';')\n",
    "    csvwriter.writerow(('epoch', 'epoch time', 'train loss', 'train ppl', 'val loss', 'val ppl', 'val bleu'))\n",
    "    train_history, test_history, train_epochs_history, test_bleu = train_with_evaluation(\n",
    "        model, EPOCH_N, optimizer, criterion, CLIP,  check_iterator, check_iterator, csvwriter)"
   ]
  }
 ],
 "metadata": {
  "accelerator": "GPU",
  "colab": {
   "machine_shape": "hm",
   "name": "Translation.ipynb",
   "version": ""
  },
  "kernelspec": {
   "display_name": "Python 3",
   "language": "python",
   "name": "python3"
  },
  "language_info": {
   "codemirror_mode": {
    "name": "ipython",
    "version": 3
   },
   "file_extension": ".py",
   "mimetype": "text/x-python",
   "name": "python",
   "nbconvert_exporter": "python",
   "pygments_lexer": "ipython3",
   "version": "3.8.10"
  }
 },
 "nbformat": 4,
 "nbformat_minor": 5
}
