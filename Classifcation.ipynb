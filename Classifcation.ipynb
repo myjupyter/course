{
 "cells": [
  {
   "cell_type": "code",
   "execution_count": null,
   "id": "14e6f8af",
   "metadata": {},
   "outputs": [],
   "source": [
    "import spacy.cli\n",
    "spacy.cli.download(\"en_core_web_lg\")"
   ]
  },
  {
   "cell_type": "code",
   "execution_count": 2,
   "id": "5a7c2a9d",
   "metadata": {},
   "outputs": [],
   "source": [
    "import csv\n",
    "import torch\n",
    "import torchtext\n",
    "import spacy\n",
    "import torch.nn as nn\n",
    "import torch.optim as optim\n",
    "\n",
    "from tqdm import tqdm\n",
    "from torch.utils.data import random_split\n",
    "from torchtext.data import Field, BucketIterator, TabularDataset, interleave_keys, Example"
   ]
  },
  {
   "cell_type": "code",
   "execution_count": 89,
   "id": "c81bf874",
   "metadata": {},
   "outputs": [],
   "source": [
    "device = torch.device('cuda' if torch.cuda.is_available() else 'cpu')"
   ]
  },
  {
   "cell_type": "code",
   "execution_count": 90,
   "id": "77016bb2",
   "metadata": {},
   "outputs": [],
   "source": [
    "nlp = spacy.load('en_core_web_lg')\n",
    "\n",
    "disable_pipeline = ['tok2vec', 'parser', 'senter', 'ner']\n",
    "nlp.add_pipe('token_splitter')\n",
    "\n",
    "DATAPATH = './classification.csv'\n",
    "\n",
    "def tokenize(text):\n",
    "    doc = nlp(text, disable=disable_pipeline)\n",
    "    return [t.lemma_ for t in doc if t.is_alpha]\n",
    "\n",
    "desc = Field(\n",
    "    init_token='<sos>',\n",
    "    eos_token='<eos>',\n",
    "    lower=True,\n",
    "    tokenize=tokenize,\n",
    "    stop_words=nlp.Defaults.stop_words\n",
    ")\n",
    "cwe = Field(\n",
    "    sequential=False,\n",
    ")"
   ]
  },
  {
   "cell_type": "code",
   "execution_count": 93,
   "id": "085d7edd",
   "metadata": {},
   "outputs": [],
   "source": [
    "desc.build_vocab(dataset, min_freq = 2)\n",
    "cwe.build_vocab(dataset)"
   ]
  },
  {
   "cell_type": "code",
   "execution_count": 91,
   "id": "12d94db9",
   "metadata": {
    "tags": []
   },
   "outputs": [],
   "source": [
    "dataset = TabularDataset(\n",
    "    #path='./drive/MyDrive/data/classification.csv',\n",
    "    path=DATAPATH,\n",
    "    format='csv', \n",
    "    fields=[('desc', desc), ('cwe', cwe)],\n",
    "    csv_reader_params={'delimiter': '|'}\n",
    ")"
   ]
  },
  {
   "cell_type": "code",
   "execution_count": 92,
   "id": "24cefc2f",
   "metadata": {},
   "outputs": [],
   "source": [
    "train_dataset, test_dataset, check_dataset = random_split(\n",
    "    dataset, lengths=[277134, 69219, 64],\n",
    "    generator=torch.Generator().manual_seed(42))\n",
    "train_dataset.fields = dataset.fields\n",
    "test_dataset.fields = dataset.fields\n",
    "check_dataset.fields = dataset.fields"
   ]
  },
  {
   "cell_type": "code",
   "execution_count": 110,
   "id": "499d6b9e",
   "metadata": {},
   "outputs": [],
   "source": [
    "BATCH_SIZE = 8\n",
    "\n",
    "train_iterator, test_iterator, check_iterator = BucketIterator.splits(\n",
    "    datasets=(train_dataset, test_dataset, check_dataset),\n",
    "    batch_size=BATCH_SIZE,\n",
    "    sort_key=lambda x: interleave_keys(len(x.desc), len(x.cwe)),\n",
    "    shuffle=True,\n",
    "    device=device,\n",
    ")"
   ]
  },
  {
   "cell_type": "code",
   "execution_count": 319,
   "id": "9095feb9",
   "metadata": {},
   "outputs": [
    {
     "data": {
      "text/plain": [
       "torch.Size([1, 3])"
      ]
     },
     "execution_count": 319,
     "metadata": {},
     "output_type": "execute_result"
    }
   ],
   "source": [
    "a = torch.tensor([[1,2,3]])\n",
    "a.view((1, *a.shape)).shape[1:]"
   ]
  },
  {
   "cell_type": "code",
   "execution_count": 373,
   "id": "ed3f333d",
   "metadata": {},
   "outputs": [],
   "source": [
    "def sum_embeddings(x):\n",
    "    return (x.sum(dim=0) / x.shape[0]).view((1, *x.shape[1:]))\n",
    "\n",
    "class LSTMForwardNet(nn.Module):\n",
    "    def __init__(self, input_size, embed_size, hidden_size, dropout, n_layers, bidirectional=False, linear_size_tuple = None):\n",
    "        super().__init__()\n",
    "        self.embeding = nn.Embedding(input_size, embed_size, padding_idx=desc.vocab['<pad>'])\n",
    "        if linear_size_tuple is None:\n",
    "            raise AttributeError('linear_size_tuple should be tuple of ints')\n",
    "            \n",
    "            \n",
    "        self.hidden_size = hidden_size\n",
    "        self.bidirectional = bidirectional\n",
    "        \n",
    "        rnn = nn.LSTM(\n",
    "            embed_size, hidden_size, n_layers, \n",
    "            dropout=dropout, bidirectional=bidirectional)\n",
    "        \n",
    "        layer_sizes = [hidden_size]\n",
    "        layer_sizes.extend(linear_size_tuple)\n",
    "        linear = []\n",
    "        for size in zip(layer_sizes, layer_sizes[1:]):\n",
    "            in_feature, out_feature = size\n",
    "            linear.append(nn.Dropout())\n",
    "            #linear.append(nn.BatchNorm1d(in_feature))\n",
    "            linear.append(nn.Linear(in_feature, out_feature))\n",
    "            linear.append(nn.Softmax(dim=2))\n",
    "        linear = nn.Sequential(*linear)\n",
    "        \n",
    "        self.model = nn.ModuleDict({\n",
    "            'lstm': rnn,\n",
    "            'linear': linear})\n",
    "        \n",
    "    def forward(self, x):\n",
    "        output, _ = self.model['lstm'](self.embeding(x))\n",
    "        logits = self.model['linear'](sum_embeddings(output))\n",
    "        return logits\n",
    "    \n",
    "    def init_hidden(self, batch_size, device):\n",
    "            return(torch.zeros(2 if self.bidirectional else 1, batch_size, self.hidden_size).to(device).requires_grad_(True).double(),\n",
    "                   torch.zeros(2 if self.bidirectional else 1, batch_size, self.hidden_size).to(device).requires_grad_(True).double())"
   ]
  },
  {
   "cell_type": "code",
   "execution_count": 393,
   "id": "6b2ec223",
   "metadata": {},
   "outputs": [],
   "source": [
    "def train(model, iterator, optimizer, criterion, clip):\n",
    "    model.train()\n",
    "    \n",
    "    epoch_loss = 0\n",
    "    epoch_history = []\n",
    "    total = 0\n",
    "    epoch_accuracy = 0\n",
    "    for i, batch in enumerate(tqdm(iterator)):\n",
    "        x = batch.desc\n",
    "        y = batch.cwe\n",
    "        \n",
    "        total += y.shape[0]\n",
    "        \n",
    "        optimizer.zero_grad()\n",
    "        \n",
    "        output = model(x)\n",
    "        output = output.view(output.shape[1:])\n",
    "        prediction = output.topk(1).indices\n",
    "        epoch_accuracy += torch.sum(prediction == y)\n",
    "        loss = criterion(output, y)\n",
    "        \n",
    "        loss.backward()\n",
    "        \n",
    "        torch.nn.utils.clip_grad_norm_(model.parameters(), clip)\n",
    "        \n",
    "        optimizer.step()\n",
    "        \n",
    "        epoch_loss += loss.item()\n",
    "        \n",
    "        epoch_history.append(loss.cpu().data.numpy())\n",
    "        \n",
    "    return epoch_loss / len(iterator), epoch_history, epoch_accuracy / total"
   ]
  },
  {
   "cell_type": "code",
   "execution_count": 394,
   "id": "153fe9ff",
   "metadata": {},
   "outputs": [],
   "source": [
    "def evaluate(model, iterator, criterion):\n",
    "    \n",
    "    model.eval()\n",
    "    \n",
    "    epoch_loss = 0\n",
    "    with torch.no_grad():\n",
    "        for i, batch in enumerate(iterator):\n",
    "\n",
    "            in_feature = batch.desc\n",
    "            expected = batch.cwe\n",
    "\n",
    "            output = model(in_feature)\n",
    "            output = output.view(output.shape[1:])\n",
    "            \n",
    "            loss = criterion(output, expected)\n",
    "            epoch_loss += loss.item()\n",
    "        \n",
    "    return epoch_loss / len(iterator)"
   ]
  },
  {
   "cell_type": "code",
   "execution_count": 399,
   "id": "4c7f3571",
   "metadata": {},
   "outputs": [],
   "source": [
    "import time\n",
    "import math\n",
    "\n",
    "def epoch_time(start_time, end_time):\n",
    "    elapsed_time = end_time - start_time\n",
    "    elapsed_mins = int(elapsed_time / 60)\n",
    "    elapsed_secs = int(elapsed_time - (elapsed_mins * 60))\n",
    "    return elapsed_mins, elapsed_secs\n",
    "\n",
    "def train_with_evaluation(model, epoch_num, optimizer, criterion, clip, train_iterator, test_iterator, writer):\n",
    "    train_history = []\n",
    "    test_history = []\n",
    "    train_epoch_history = []\n",
    "    best_valid_loss = 9999.99\n",
    "    \n",
    "    for epoch in range(epoch_num):\n",
    "    \n",
    "        start_time = time.time()\n",
    "\n",
    "        train_loss, epoch_history, train_epoch_accuracy = train(model, train_iterator, optimizer, criterion, clip)\n",
    "        valid_loss = evaluate(model, test_iterator, criterion)\n",
    "        \n",
    "        end_time = time.time()\n",
    "\n",
    "        epoch_mins, epoch_secs = epoch_time(start_time, end_time)\n",
    "\n",
    "        if valid_loss < best_valid_loss:\n",
    "            best_valid_loss = valid_loss\n",
    "            torch.save(model.state_dict(), 'cwe-model.pt')\n",
    "\n",
    "        train_history.append(train_loss)\n",
    "        test_history.append(valid_loss)\n",
    "        train_epoch_history.append(epoch_history)\n",
    "\n",
    "        writer.writerow(\n",
    "            (epoch+1,                           # epoch num\n",
    "             f'{epoch_mins}:{epoch_secs}',      # epoch time\n",
    "             f'{train_loss:.3f}',               # train loss\n",
    "             f'{math.exp(train_loss):7.3f}',    # ppl train\n",
    "             f'{valid_loss:.3f}',               # valid loss\n",
    "             f'{math.exp(valid_loss):7.3f}',    # ppl valid\n",
    "        ))\n",
    "        \n",
    "        print(f'Epoch: {epoch+1:02} | Time: {epoch_mins}m {epoch_secs}s')\n",
    "        print(f'\\tTrain Accuracy {train_epoch_accuracy:.3f} | Valid')\n",
    "        print(f'\\tTrain Loss: {train_loss:.3f} | Train PPL: {math.exp(train_loss):7.3f}')\n",
    "        print(f'\\tVal. Loss: {valid_loss:.3f} |  Val. PPL: {math.exp(valid_loss):7.3f}')\n",
    "    return train_history, test_history, train_epoch_history"
   ]
  },
  {
   "cell_type": "code",
   "execution_count": 400,
   "id": "48879f62",
   "metadata": {},
   "outputs": [],
   "source": [
    "EPOCH = 10\n",
    "INPUT_SIZE = len(desc.vocab)\n",
    "OUTPUT_SIZE = len(cwe.vocab)\n",
    "EMBED_SIZE = 300\n",
    "HIDDEN_SIZE = 512\n",
    "DROPOUT=0.7\n",
    "N_LAYERS = 1\n",
    "CLIP_GRAD= 1.0\n",
    "LINEAR_SIZE_TUPLE= (1024, 512, OUTPUT_SIZE)\n",
    "\n",
    "model = LSTMForwardNet(\n",
    "    INPUT_SIZE, EMBED_SIZE, HIDDEN_SIZE, DROPOUT, N_LAYERS, linear_size_tuple=LINEAR_SIZE_TUPLE).to(device)\n",
    "\n",
    "def init_weights(m):\n",
    "    for name, params in m.named_parameters():\n",
    "        torch.nn.init.uniform_(params, -0.08, 0.08)\n",
    "        \n",
    "model.apply(init_weights)\n",
    "\n",
    "optimizer = optim.Adam(model.parameters())\n",
    "criterion = nn.CrossEntropyLoss()"
   ]
  },
  {
   "cell_type": "code",
   "execution_count": 401,
   "id": "b7baa27a",
   "metadata": {},
   "outputs": [
    {
     "name": "stdout",
     "output_type": "stream",
     "text": [
      "The model has 30,226,881 trainable parameters\n"
     ]
    }
   ],
   "source": [
    "def count_parameters(model):\n",
    "    return sum(p.numel() for p in model.parameters() if p.requires_grad)\n",
    "\n",
    "print(f'The model has {count_parameters(model):,} trainable parameters')"
   ]
  },
  {
   "cell_type": "code",
   "execution_count": 402,
   "id": "2ba6ec10",
   "metadata": {},
   "outputs": [
    {
     "name": "stderr",
     "output_type": "stream",
     "text": [
      "  0%|                                                                                                                                                          | 0/8 [00:00<?, ?it/s]"
     ]
    },
    {
     "name": "stdout",
     "output_type": "stream",
     "text": [
      "x.shape=torch.Size([18, 8, 512])\n",
      "a.shape=torch.Size([1, 8, 512])\n"
     ]
    },
    {
     "name": "stderr",
     "output_type": "stream",
     "text": [
      " 25%|████████████████████████████████████▌                                                                                                             | 2/8 [00:00<00:01,  4.73it/s]"
     ]
    },
    {
     "name": "stdout",
     "output_type": "stream",
     "text": [
      "x.shape=torch.Size([22, 8, 512])\n",
      "a.shape=torch.Size([1, 8, 512])\n",
      "x.shape=torch.Size([30, 8, 512])\n",
      "a.shape=torch.Size([1, 8, 512])\n"
     ]
    },
    {
     "name": "stderr",
     "output_type": "stream",
     "text": [
      " 50%|█████████████████████████████████████████████████████████████████████████                                                                         | 4/8 [00:00<00:00,  4.52it/s]"
     ]
    },
    {
     "name": "stdout",
     "output_type": "stream",
     "text": [
      "x.shape=torch.Size([34, 8, 512])\n",
      "a.shape=torch.Size([1, 8, 512])\n"
     ]
    },
    {
     "name": "stderr",
     "output_type": "stream",
     "text": [
      " 62%|███████████████████████████████████████████████████████████████████████████████████████████▎                                                      | 5/8 [00:01<00:00,  4.29it/s]"
     ]
    },
    {
     "name": "stdout",
     "output_type": "stream",
     "text": [
      "x.shape=torch.Size([39, 8, 512])\n",
      "a.shape=torch.Size([1, 8, 512])\n"
     ]
    },
    {
     "name": "stderr",
     "output_type": "stream",
     "text": [
      " 75%|█████████████████████████████████████████████████████████████████████████████████████████████████████████████▌                                    | 6/8 [00:01<00:00,  3.98it/s]"
     ]
    },
    {
     "name": "stdout",
     "output_type": "stream",
     "text": [
      "x.shape=torch.Size([46, 8, 512])\n",
      "a.shape=torch.Size([1, 8, 512])\n",
      "x.shape=torch.Size([68, 8, 512])\n",
      "a.shape=torch.Size([1, 8, 512])\n"
     ]
    },
    {
     "name": "stderr",
     "output_type": "stream",
     "text": [
      " 88%|███████████████████████████████████████████████████████████████████████████████████████████████████████████████████████████████▊                  | 7/8 [00:01<00:00,  3.54it/s]"
     ]
    },
    {
     "name": "stdout",
     "output_type": "stream",
     "text": [
      "x.shape=torch.Size([105, 8, 512])\n",
      "a.shape=torch.Size([1, 8, 512])\n"
     ]
    },
    {
     "name": "stderr",
     "output_type": "stream",
     "text": [
      "100%|██████████████████████████████████████████████████████████████████████████████████████████████████████████████████████████████████████████████████| 8/8 [00:02<00:00,  3.57it/s]\n"
     ]
    },
    {
     "name": "stdout",
     "output_type": "stream",
     "text": [
      "x.shape=torch.Size([18, 8, 512])\n",
      "a.shape=torch.Size([1, 8, 512])\n",
      "x.shape=torch.Size([22, 8, 512])\n",
      "a.shape=torch.Size([1, 8, 512])\n",
      "x.shape=torch.Size([30, 8, 512])\n",
      "a.shape=torch.Size([1, 8, 512])\n",
      "x.shape=torch.Size([34, 8, 512])\n",
      "a.shape=torch.Size([1, 8, 512])\n",
      "x.shape=torch.Size([39, 8, 512])\n",
      "a.shape=torch.Size([1, 8, 512])\n",
      "x.shape=torch.Size([46, 8, 512])\n",
      "a.shape=torch.Size([1, 8, 512])\n",
      "x.shape=torch.Size([68, 8, 512])\n",
      "a.shape=torch.Size([1, 8, 512])\n",
      "x.shape=torch.Size([105, 8, 512])\n",
      "a.shape=torch.Size([1, 8, 512])\n",
      "Epoch: 01 | Time: 0m 2s\n",
      "\tAccuracy 0.016\n",
      "\tTrain Loss: 5.595 | Train PPL: 269.000\n",
      "\tVal. Loss: 5.595 |  Val. PPL: 268.989\n"
     ]
    },
    {
     "name": "stderr",
     "output_type": "stream",
     "text": [
      " 12%|██████████████████▎                                                                                                                               | 1/8 [00:00<00:01,  6.14it/s]"
     ]
    },
    {
     "name": "stdout",
     "output_type": "stream",
     "text": [
      "x.shape=torch.Size([18, 8, 512])\n",
      "a.shape=torch.Size([1, 8, 512])\n",
      "x.shape=torch.Size([22, 8, 512])\n",
      "a.shape=torch.Size([1, 8, 512])\n"
     ]
    },
    {
     "name": "stderr",
     "output_type": "stream",
     "text": [
      " 38%|██████████████████████████████████████████████████████▊                                                                                           | 3/8 [00:00<00:00,  5.61it/s]"
     ]
    },
    {
     "name": "stdout",
     "output_type": "stream",
     "text": [
      "x.shape=torch.Size([30, 8, 512])\n",
      "a.shape=torch.Size([1, 8, 512])\n"
     ]
    },
    {
     "name": "stderr",
     "output_type": "stream",
     "text": [
      " 50%|█████████████████████████████████████████████████████████████████████████                                                                         | 4/8 [00:00<00:00,  4.93it/s]"
     ]
    },
    {
     "name": "stdout",
     "output_type": "stream",
     "text": [
      "x.shape=torch.Size([34, 8, 512])\n",
      "a.shape=torch.Size([1, 8, 512])\n"
     ]
    },
    {
     "name": "stderr",
     "output_type": "stream",
     "text": [
      " 62%|███████████████████████████████████████████████████████████████████████████████████████████▎                                                      | 5/8 [00:00<00:00,  4.90it/s]"
     ]
    },
    {
     "name": "stdout",
     "output_type": "stream",
     "text": [
      "x.shape=torch.Size([39, 8, 512])\n",
      "a.shape=torch.Size([1, 8, 512])\n",
      "x.shape=torch.Size([46, 8, 512])\n"
     ]
    },
    {
     "name": "stderr",
     "output_type": "stream",
     "text": [
      " 75%|█████████████████████████████████████████████████████████████████████████████████████████████████████████████▌                                    | 6/8 [00:01<00:00,  4.83it/s]"
     ]
    },
    {
     "name": "stdout",
     "output_type": "stream",
     "text": [
      "a.shape=torch.Size([1, 8, 512])\n",
      "x.shape=torch.Size([68, 8, 512])\n",
      "a.shape=torch.Size([1, 8, 512])\n"
     ]
    },
    {
     "name": "stderr",
     "output_type": "stream",
     "text": [
      " 88%|███████████████████████████████████████████████████████████████████████████████████████████████████████████████████████████████▊                  | 7/8 [00:01<00:00,  4.33it/s]"
     ]
    },
    {
     "name": "stdout",
     "output_type": "stream",
     "text": [
      "x.shape=torch.Size([105, 8, 512])\n",
      "a.shape=torch.Size([1, 8, 512])\n"
     ]
    },
    {
     "name": "stderr",
     "output_type": "stream",
     "text": [
      "100%|██████████████████████████████████████████████████████████████████████████████████████████████████████████████████████████████████████████████████| 8/8 [00:01<00:00,  4.37it/s]\n"
     ]
    },
    {
     "name": "stdout",
     "output_type": "stream",
     "text": [
      "x.shape=torch.Size([18, 8, 512])\n",
      "a.shape=torch.Size([1, 8, 512])\n",
      "x.shape=torch.Size([22, 8, 512])\n",
      "a.shape=torch.Size([1, 8, 512])\n",
      "x.shape=torch.Size([30, 8, 512])\n",
      "a.shape=torch.Size([1, 8, 512])\n",
      "x.shape=torch.Size([34, 8, 512])\n",
      "a.shape=torch.Size([1, 8, 512])\n",
      "x.shape=torch.Size([39, 8, 512])\n",
      "a.shape=torch.Size([1, 8, 512])\n",
      "x.shape=torch.Size([46, 8, 512])\n",
      "a.shape=torch.Size([1, 8, 512])\n",
      "x.shape=torch.Size([68, 8, 512])\n",
      "a.shape=torch.Size([1, 8, 512])\n",
      "x.shape=torch.Size([105, 8, 512])\n",
      "a.shape=torch.Size([1, 8, 512])\n",
      "Epoch: 02 | Time: 0m 2s\n",
      "\tAccuracy 0.156\n",
      "\tTrain Loss: 5.595 | Train PPL: 268.981\n",
      "\tVal. Loss: 5.595 |  Val. PPL: 268.970\n"
     ]
    },
    {
     "name": "stderr",
     "output_type": "stream",
     "text": [
      "  0%|                                                                                                                                                          | 0/8 [00:00<?, ?it/s]"
     ]
    },
    {
     "name": "stdout",
     "output_type": "stream",
     "text": [
      "x.shape=torch.Size([18, 8, 512])\n",
      "a.shape=torch.Size([1, 8, 512])\n"
     ]
    },
    {
     "name": "stderr",
     "output_type": "stream",
     "text": [
      " 12%|██████████████████▎                                                                                                                               | 1/8 [00:00<00:00,  7.13it/s]"
     ]
    },
    {
     "name": "stdout",
     "output_type": "stream",
     "text": [
      "x.shape=torch.Size([22, 8, 512])\n",
      "a.shape=torch.Size([1, 8, 512])\n"
     ]
    },
    {
     "name": "stderr",
     "output_type": "stream",
     "text": [
      " 25%|████████████████████████████████████▌                                                                                                             | 2/8 [00:00<00:00,  6.88it/s]"
     ]
    },
    {
     "name": "stdout",
     "output_type": "stream",
     "text": [
      "x.shape=torch.Size([30, 8, 512])\n",
      "a.shape=torch.Size([1, 8, 512])\n"
     ]
    },
    {
     "name": "stderr",
     "output_type": "stream",
     "text": [
      " 38%|██████████████████████████████████████████████████████▊                                                                                           | 3/8 [00:00<00:00,  6.17it/s]"
     ]
    },
    {
     "name": "stdout",
     "output_type": "stream",
     "text": [
      "x.shape=torch.Size([34, 8, 512])\n",
      "a.shape=torch.Size([1, 8, 512])\n"
     ]
    },
    {
     "name": "stderr",
     "output_type": "stream",
     "text": [
      " 50%|█████████████████████████████████████████████████████████████████████████                                                                         | 4/8 [00:00<00:00,  5.74it/s]"
     ]
    },
    {
     "name": "stdout",
     "output_type": "stream",
     "text": [
      "x.shape=torch.Size([39, 8, 512])\n",
      "a.shape=torch.Size([1, 8, 512])\n"
     ]
    },
    {
     "name": "stderr",
     "output_type": "stream",
     "text": [
      " 75%|█████████████████████████████████████████████████████████████████████████████████████████████████████████████▌                                    | 6/8 [00:01<00:00,  5.24it/s]"
     ]
    },
    {
     "name": "stdout",
     "output_type": "stream",
     "text": [
      "x.shape=torch.Size([46, 8, 512])\n",
      "a.shape=torch.Size([1, 8, 512])\n",
      "x.shape=torch.Size([68, 8, 512])\n",
      "a.shape=torch.Size([1, 8, 512])\n"
     ]
    },
    {
     "name": "stderr",
     "output_type": "stream",
     "text": [
      " 88%|███████████████████████████████████████████████████████████████████████████████████████████████████████████████████████████████▊                  | 7/8 [00:01<00:00,  4.51it/s]"
     ]
    },
    {
     "name": "stdout",
     "output_type": "stream",
     "text": [
      "x.shape=torch.Size([105, 8, 512])\n",
      "a.shape=torch.Size([1, 8, 512])\n"
     ]
    },
    {
     "name": "stderr",
     "output_type": "stream",
     "text": [
      "100%|██████████████████████████████████████████████████████████████████████████████████████████████████████████████████████████████████████████████████| 8/8 [00:01<00:00,  4.69it/s]\n"
     ]
    },
    {
     "name": "stdout",
     "output_type": "stream",
     "text": [
      "x.shape=torch.Size([18, 8, 512])\n",
      "a.shape=torch.Size([1, 8, 512])\n",
      "x.shape=torch.Size([22, 8, 512])\n",
      "a.shape=torch.Size([1, 8, 512])\n",
      "x.shape=torch.Size([30, 8, 512])\n",
      "a.shape=torch.Size([1, 8, 512])\n",
      "x.shape=torch.Size([34, 8, 512])\n",
      "a.shape=torch.Size([1, 8, 512])\n",
      "x.shape=torch.Size([39, 8, 512])\n",
      "a.shape=torch.Size([1, 8, 512])\n",
      "x.shape=torch.Size([46, 8, 512])\n",
      "a.shape=torch.Size([1, 8, 512])\n",
      "x.shape=torch.Size([68, 8, 512])\n",
      "a.shape=torch.Size([1, 8, 512])\n",
      "x.shape=torch.Size([105, 8, 512])\n",
      "a.shape=torch.Size([1, 8, 512])\n",
      "Epoch: 03 | Time: 0m 2s\n",
      "\tAccuracy 0.141\n",
      "\tTrain Loss: 5.595 | Train PPL: 268.962\n",
      "\tVal. Loss: 5.595 |  Val. PPL: 268.950\n"
     ]
    },
    {
     "name": "stderr",
     "output_type": "stream",
     "text": [
      " 12%|██████████████████▎                                                                                                                               | 1/8 [00:00<00:01,  5.93it/s]"
     ]
    },
    {
     "name": "stdout",
     "output_type": "stream",
     "text": [
      "x.shape=torch.Size([18, 8, 512])\n",
      "a.shape=torch.Size([1, 8, 512])\n",
      "x.shape=torch.Size([22, 8, 512])\n",
      "a.shape=torch.Size([1, 8, 512])\n"
     ]
    },
    {
     "name": "stderr",
     "output_type": "stream",
     "text": [
      " 38%|██████████████████████████████████████████████████████▊                                                                                           | 3/8 [00:00<00:00,  6.15it/s]"
     ]
    },
    {
     "name": "stdout",
     "output_type": "stream",
     "text": [
      "x.shape=torch.Size([30, 8, 512])\n",
      "a.shape=torch.Size([1, 8, 512])\n",
      "x.shape=torch.Size([34, 8, 512])\n",
      "a.shape=torch.Size([1, 8, 512])\n"
     ]
    },
    {
     "name": "stderr",
     "output_type": "stream",
     "text": [
      " 62%|███████████████████████████████████████████████████████████████████████████████████████████▎                                                      | 5/8 [00:00<00:00,  5.09it/s]"
     ]
    },
    {
     "name": "stdout",
     "output_type": "stream",
     "text": [
      "x.shape=torch.Size([39, 8, 512])\n",
      "a.shape=torch.Size([1, 8, 512])\n"
     ]
    },
    {
     "name": "stderr",
     "output_type": "stream",
     "text": [
      " 75%|█████████████████████████████████████████████████████████████████████████████████████████████████████████████▌                                    | 6/8 [00:01<00:00,  4.85it/s]"
     ]
    },
    {
     "name": "stdout",
     "output_type": "stream",
     "text": [
      "x.shape=torch.Size([46, 8, 512])\n",
      "a.shape=torch.Size([1, 8, 512])\n"
     ]
    },
    {
     "name": "stderr",
     "output_type": "stream",
     "text": [
      " 88%|███████████████████████████████████████████████████████████████████████████████████████████████████████████████████████████████▊                  | 7/8 [00:01<00:00,  4.44it/s]"
     ]
    },
    {
     "name": "stdout",
     "output_type": "stream",
     "text": [
      "x.shape=torch.Size([68, 8, 512])\n",
      "a.shape=torch.Size([1, 8, 512])\n",
      "x.shape=torch.Size([105, 8, 512])\n",
      "a.shape=torch.Size([1, 8, 512])\n"
     ]
    },
    {
     "name": "stderr",
     "output_type": "stream",
     "text": [
      "100%|██████████████████████████████████████████████████████████████████████████████████████████████████████████████████████████████████████████████████| 8/8 [00:01<00:00,  4.50it/s]\n"
     ]
    },
    {
     "name": "stdout",
     "output_type": "stream",
     "text": [
      "x.shape=torch.Size([18, 8, 512])\n",
      "a.shape=torch.Size([1, 8, 512])\n",
      "x.shape=torch.Size([22, 8, 512])\n",
      "a.shape=torch.Size([1, 8, 512])\n",
      "x.shape=torch.Size([30, 8, 512])\n",
      "a.shape=torch.Size([1, 8, 512])\n",
      "x.shape=torch.Size([34, 8, 512])\n",
      "a.shape=torch.Size([1, 8, 512])\n",
      "x.shape=torch.Size([39, 8, 512])\n",
      "a.shape=torch.Size([1, 8, 512])\n",
      "x.shape=torch.Size([46, 8, 512])\n",
      "a.shape=torch.Size([1, 8, 512])\n",
      "x.shape=torch.Size([68, 8, 512])\n",
      "a.shape=torch.Size([1, 8, 512])\n",
      "x.shape=torch.Size([105, 8, 512])\n",
      "a.shape=torch.Size([1, 8, 512])\n",
      "Epoch: 04 | Time: 0m 2s\n",
      "\tAccuracy 0.156\n",
      "\tTrain Loss: 5.594 | Train PPL: 268.941\n",
      "\tVal. Loss: 5.594 |  Val. PPL: 268.929\n"
     ]
    },
    {
     "name": "stderr",
     "output_type": "stream",
     "text": [
      "  0%|                                                                                                                                                          | 0/8 [00:00<?, ?it/s]"
     ]
    },
    {
     "name": "stdout",
     "output_type": "stream",
     "text": [
      "x.shape=torch.Size([18, 8, 512])\n",
      "a.shape=torch.Size([1, 8, 512])\n"
     ]
    },
    {
     "name": "stderr",
     "output_type": "stream",
     "text": [
      " 12%|██████████████████▎                                                                                                                               | 1/8 [00:00<00:01,  6.10it/s]"
     ]
    },
    {
     "name": "stdout",
     "output_type": "stream",
     "text": [
      "x.shape=torch.Size([22, 8, 512])\n",
      "a.shape=torch.Size([1, 8, 512])\n"
     ]
    },
    {
     "name": "stderr",
     "output_type": "stream",
     "text": [
      " 25%|████████████████████████████████████▌                                                                                                             | 2/8 [00:00<00:01,  5.87it/s]"
     ]
    },
    {
     "name": "stdout",
     "output_type": "stream",
     "text": [
      "x.shape=torch.Size([30, 8, 512])\n",
      "a.shape=torch.Size([1, 8, 512])\n"
     ]
    },
    {
     "name": "stderr",
     "output_type": "stream",
     "text": [
      " 38%|██████████████████████████████████████████████████████▊                                                                                           | 3/8 [00:00<00:00,  5.63it/s]"
     ]
    },
    {
     "name": "stdout",
     "output_type": "stream",
     "text": [
      "x.shape=torch.Size([34, 8, 512])\n",
      "a.shape=torch.Size([1, 8, 512])\n"
     ]
    },
    {
     "name": "stderr",
     "output_type": "stream",
     "text": [
      " 62%|███████████████████████████████████████████████████████████████████████████████████████████▎                                                      | 5/8 [00:00<00:00,  4.82it/s]"
     ]
    },
    {
     "name": "stdout",
     "output_type": "stream",
     "text": [
      "x.shape=torch.Size([39, 8, 512])\n",
      "a.shape=torch.Size([1, 8, 512])\n"
     ]
    },
    {
     "name": "stderr",
     "output_type": "stream",
     "text": [
      " 75%|█████████████████████████████████████████████████████████████████████████████████████████████████████████████▌                                    | 6/8 [00:01<00:00,  4.38it/s]"
     ]
    },
    {
     "name": "stdout",
     "output_type": "stream",
     "text": [
      "x.shape=torch.Size([46, 8, 512])\n",
      "a.shape=torch.Size([1, 8, 512])\n",
      "x.shape=torch.Size([68, 8, 512])\n",
      "a.shape=torch.Size([1, 8, 512])\n"
     ]
    },
    {
     "name": "stderr",
     "output_type": "stream",
     "text": [
      " 88%|███████████████████████████████████████████████████████████████████████████████████████████████████████████████████████████████▊                  | 7/8 [00:01<00:00,  3.68it/s]"
     ]
    },
    {
     "name": "stdout",
     "output_type": "stream",
     "text": [
      "x.shape=torch.Size([105, 8, 512])\n",
      "a.shape=torch.Size([1, 8, 512])\n"
     ]
    },
    {
     "name": "stderr",
     "output_type": "stream",
     "text": [
      "100%|██████████████████████████████████████████████████████████████████████████████████████████████████████████████████████████████████████████████████| 8/8 [00:01<00:00,  4.03it/s]\n"
     ]
    },
    {
     "name": "stdout",
     "output_type": "stream",
     "text": [
      "x.shape=torch.Size([18, 8, 512])\n",
      "a.shape=torch.Size([1, 8, 512])\n",
      "x.shape=torch.Size([22, 8, 512])\n",
      "a.shape=torch.Size([1, 8, 512])\n",
      "x.shape=torch.Size([30, 8, 512])\n",
      "a.shape=torch.Size([1, 8, 512])\n",
      "x.shape=torch.Size([34, 8, 512])\n",
      "a.shape=torch.Size([1, 8, 512])\n",
      "x.shape=torch.Size([39, 8, 512])\n",
      "a.shape=torch.Size([1, 8, 512])\n",
      "x.shape=torch.Size([46, 8, 512])\n",
      "a.shape=torch.Size([1, 8, 512])\n",
      "x.shape=torch.Size([68, 8, 512])\n",
      "a.shape=torch.Size([1, 8, 512])\n",
      "x.shape=torch.Size([105, 8, 512])\n",
      "a.shape=torch.Size([1, 8, 512])\n",
      "Epoch: 05 | Time: 0m 2s\n",
      "\tAccuracy 0.188\n",
      "\tTrain Loss: 5.594 | Train PPL: 268.920\n",
      "\tVal. Loss: 5.594 |  Val. PPL: 268.908\n"
     ]
    },
    {
     "name": "stderr",
     "output_type": "stream",
     "text": [
      "  0%|                                                                                                                                                          | 0/8 [00:00<?, ?it/s]"
     ]
    },
    {
     "name": "stdout",
     "output_type": "stream",
     "text": [
      "x.shape=torch.Size([18, 8, 512])\n",
      "a.shape=torch.Size([1, 8, 512])\n"
     ]
    },
    {
     "name": "stderr",
     "output_type": "stream",
     "text": [
      " 12%|██████████████████▎                                                                                                                               | 1/8 [00:00<00:01,  6.06it/s]"
     ]
    },
    {
     "name": "stdout",
     "output_type": "stream",
     "text": [
      "x.shape=torch.Size([22, 8, 512])\n",
      "a.shape=torch.Size([1, 8, 512])\n"
     ]
    },
    {
     "name": "stderr",
     "output_type": "stream",
     "text": [
      " 25%|████████████████████████████████████▌                                                                                                             | 2/8 [00:00<00:01,  5.32it/s]"
     ]
    },
    {
     "name": "stdout",
     "output_type": "stream",
     "text": [
      "x.shape=torch.Size([30, 8, 512])\n",
      "a.shape=torch.Size([1, 8, 512])\n"
     ]
    },
    {
     "name": "stderr",
     "output_type": "stream",
     "text": [
      " 38%|██████████████████████████████████████████████████████▊                                                                                           | 3/8 [00:00<00:00,  5.22it/s]"
     ]
    },
    {
     "name": "stdout",
     "output_type": "stream",
     "text": [
      "x.shape=torch.Size([34, 8, 512])\n",
      "a.shape=torch.Size([1, 8, 512])\n"
     ]
    },
    {
     "name": "stderr",
     "output_type": "stream",
     "text": [
      " 50%|█████████████████████████████████████████████████████████████████████████                                                                         | 4/8 [00:00<00:00,  5.33it/s]"
     ]
    },
    {
     "name": "stdout",
     "output_type": "stream",
     "text": [
      "x.shape=torch.Size([39, 8, 512])\n",
      "a.shape=torch.Size([1, 8, 512])\n"
     ]
    },
    {
     "name": "stderr",
     "output_type": "stream",
     "text": [
      " 75%|█████████████████████████████████████████████████████████████████████████████████████████████████████████████▌                                    | 6/8 [00:01<00:00,  4.92it/s]"
     ]
    },
    {
     "name": "stdout",
     "output_type": "stream",
     "text": [
      "x.shape=torch.Size([46, 8, 512])\n",
      "a.shape=torch.Size([1, 8, 512])\n",
      "x.shape=torch.Size([68, 8, 512])\n",
      "a.shape=torch.Size([1, 8, 512])\n"
     ]
    },
    {
     "name": "stderr",
     "output_type": "stream",
     "text": [
      " 88%|███████████████████████████████████████████████████████████████████████████████████████████████████████████████████████████████▊                  | 7/8 [00:01<00:00,  4.44it/s]"
     ]
    },
    {
     "name": "stdout",
     "output_type": "stream",
     "text": [
      "x.shape=torch.Size([105, 8, 512])\n",
      "a.shape=torch.Size([1, 8, 512])\n"
     ]
    },
    {
     "name": "stderr",
     "output_type": "stream",
     "text": [
      "100%|██████████████████████████████████████████████████████████████████████████████████████████████████████████████████████████████████████████████████| 8/8 [00:01<00:00,  4.25it/s]\n"
     ]
    },
    {
     "name": "stdout",
     "output_type": "stream",
     "text": [
      "x.shape=torch.Size([18, 8, 512])\n",
      "a.shape=torch.Size([1, 8, 512])\n",
      "x.shape=torch.Size([22, 8, 512])\n",
      "a.shape=torch.Size([1, 8, 512])\n",
      "x.shape=torch.Size([30, 8, 512])\n",
      "a.shape=torch.Size([1, 8, 512])\n",
      "x.shape=torch.Size([34, 8, 512])\n",
      "a.shape=torch.Size([1, 8, 512])\n",
      "x.shape=torch.Size([39, 8, 512])\n",
      "a.shape=torch.Size([1, 8, 512])\n",
      "x.shape=torch.Size([46, 8, 512])\n",
      "a.shape=torch.Size([1, 8, 512])\n",
      "x.shape=torch.Size([68, 8, 512])\n",
      "a.shape=torch.Size([1, 8, 512])\n",
      "x.shape=torch.Size([105, 8, 512])\n",
      "a.shape=torch.Size([1, 8, 512])\n",
      "Epoch: 06 | Time: 0m 2s\n",
      "\tAccuracy 0.297\n",
      "\tTrain Loss: 5.594 | Train PPL: 268.899\n",
      "\tVal. Loss: 5.594 |  Val. PPL: 268.887\n"
     ]
    },
    {
     "name": "stderr",
     "output_type": "stream",
     "text": [
      "  0%|                                                                                                                                                          | 0/8 [00:00<?, ?it/s]"
     ]
    },
    {
     "name": "stdout",
     "output_type": "stream",
     "text": [
      "x.shape=torch.Size([18, 8, 512])\n",
      "a.shape=torch.Size([1, 8, 512])\n"
     ]
    },
    {
     "name": "stderr",
     "output_type": "stream",
     "text": [
      " 12%|██████████████████▎                                                                                                                               | 1/8 [00:00<00:01,  6.76it/s]"
     ]
    },
    {
     "name": "stdout",
     "output_type": "stream",
     "text": [
      "x.shape=torch.Size([22, 8, 512])\n",
      "a.shape=torch.Size([1, 8, 512])\n"
     ]
    },
    {
     "name": "stderr",
     "output_type": "stream",
     "text": [
      " 25%|████████████████████████████████████▌                                                                                                             | 2/8 [00:00<00:00,  6.75it/s]"
     ]
    },
    {
     "name": "stdout",
     "output_type": "stream",
     "text": [
      "x.shape=torch.Size([30, 8, 512])\n",
      "a.shape=torch.Size([1, 8, 512])\n"
     ]
    },
    {
     "name": "stderr",
     "output_type": "stream",
     "text": [
      " 50%|█████████████████████████████████████████████████████████████████████████                                                                         | 4/8 [00:00<00:00,  5.02it/s]"
     ]
    },
    {
     "name": "stdout",
     "output_type": "stream",
     "text": [
      "x.shape=torch.Size([34, 8, 512])\n",
      "a.shape=torch.Size([1, 8, 512])\n",
      "x.shape=torch.Size([39, 8, 512])\n",
      "a.shape=torch.Size([1, 8, 512])\n"
     ]
    },
    {
     "name": "stderr",
     "output_type": "stream",
     "text": [
      " 75%|█████████████████████████████████████████████████████████████████████████████████████████████████████████████▌                                    | 6/8 [00:01<00:00,  4.49it/s]"
     ]
    },
    {
     "name": "stdout",
     "output_type": "stream",
     "text": [
      "x.shape=torch.Size([46, 8, 512])\n",
      "a.shape=torch.Size([1, 8, 512])\n",
      "x.shape=torch.Size([68, 8, 512])\n",
      "a.shape=torch.Size([1, 8, 512])\n"
     ]
    },
    {
     "name": "stderr",
     "output_type": "stream",
     "text": [
      " 88%|███████████████████████████████████████████████████████████████████████████████████████████████████████████████████████████████▊                  | 7/8 [00:01<00:00,  3.89it/s]"
     ]
    },
    {
     "name": "stdout",
     "output_type": "stream",
     "text": [
      "x.shape=torch.Size([105, 8, 512])\n",
      "a.shape=torch.Size([1, 8, 512])\n"
     ]
    },
    {
     "name": "stderr",
     "output_type": "stream",
     "text": [
      "100%|██████████████████████████████████████████████████████████████████████████████████████████████████████████████████████████████████████████████████| 8/8 [00:02<00:00,  3.95it/s]\n"
     ]
    },
    {
     "name": "stdout",
     "output_type": "stream",
     "text": [
      "x.shape=torch.Size([18, 8, 512])\n",
      "a.shape=torch.Size([1, 8, 512])\n",
      "x.shape=torch.Size([22, 8, 512])\n",
      "a.shape=torch.Size([1, 8, 512])\n",
      "x.shape=torch.Size([30, 8, 512])\n",
      "a.shape=torch.Size([1, 8, 512])\n",
      "x.shape=torch.Size([34, 8, 512])\n",
      "a.shape=torch.Size([1, 8, 512])\n",
      "x.shape=torch.Size([39, 8, 512])\n",
      "a.shape=torch.Size([1, 8, 512])\n",
      "x.shape=torch.Size([46, 8, 512])\n",
      "a.shape=torch.Size([1, 8, 512])\n",
      "x.shape=torch.Size([68, 8, 512])\n",
      "a.shape=torch.Size([1, 8, 512])\n",
      "x.shape=torch.Size([105, 8, 512])\n",
      "a.shape=torch.Size([1, 8, 512])\n",
      "Epoch: 07 | Time: 0m 2s\n",
      "\tAccuracy 0.359\n",
      "\tTrain Loss: 5.594 | Train PPL: 268.878\n",
      "\tVal. Loss: 5.594 |  Val. PPL: 268.864\n"
     ]
    },
    {
     "name": "stderr",
     "output_type": "stream",
     "text": [
      "  0%|                                                                                                                                                          | 0/8 [00:00<?, ?it/s]"
     ]
    },
    {
     "name": "stdout",
     "output_type": "stream",
     "text": [
      "x.shape=torch.Size([18, 8, 512])\n",
      "a.shape=torch.Size([1, 8, 512])\n"
     ]
    },
    {
     "name": "stderr",
     "output_type": "stream",
     "text": [
      " 12%|██████████████████▎                                                                                                                               | 1/8 [00:00<00:01,  6.46it/s]"
     ]
    },
    {
     "name": "stdout",
     "output_type": "stream",
     "text": [
      "x.shape=torch.Size([22, 8, 512])\n",
      "a.shape=torch.Size([1, 8, 512])\n"
     ]
    },
    {
     "name": "stderr",
     "output_type": "stream",
     "text": [
      " 25%|████████████████████████████████████▌                                                                                                             | 2/8 [00:00<00:01,  5.61it/s]"
     ]
    },
    {
     "name": "stdout",
     "output_type": "stream",
     "text": [
      "x.shape=torch.Size([30, 8, 512])\n",
      "a.shape=torch.Size([1, 8, 512])\n"
     ]
    },
    {
     "name": "stderr",
     "output_type": "stream",
     "text": [
      " 38%|██████████████████████████████████████████████████████▊                                                                                           | 3/8 [00:00<00:00,  5.57it/s]"
     ]
    },
    {
     "name": "stdout",
     "output_type": "stream",
     "text": [
      "x.shape=torch.Size([34, 8, 512])\n",
      "a.shape=torch.Size([1, 8, 512])\n"
     ]
    },
    {
     "name": "stderr",
     "output_type": "stream",
     "text": [
      " 50%|█████████████████████████████████████████████████████████████████████████                                                                         | 4/8 [00:00<00:00,  5.27it/s]"
     ]
    },
    {
     "name": "stdout",
     "output_type": "stream",
     "text": [
      "x.shape=torch.Size([39, 8, 512])\n"
     ]
    },
    {
     "name": "stderr",
     "output_type": "stream",
     "text": [
      " 62%|███████████████████████████████████████████████████████████████████████████████████████████▎                                                      | 5/8 [00:00<00:00,  5.20it/s]"
     ]
    },
    {
     "name": "stdout",
     "output_type": "stream",
     "text": [
      "a.shape=torch.Size([1, 8, 512])\n",
      "x.shape=torch.Size([46, 8, 512])\n"
     ]
    },
    {
     "name": "stderr",
     "output_type": "stream",
     "text": [
      " 75%|█████████████████████████████████████████████████████████████████████████████████████████████████████████████▌                                    | 6/8 [00:01<00:00,  4.97it/s]"
     ]
    },
    {
     "name": "stdout",
     "output_type": "stream",
     "text": [
      "a.shape=torch.Size([1, 8, 512])\n",
      "x.shape=torch.Size([68, 8, 512])\n",
      "a.shape=torch.Size([1, 8, 512])\n"
     ]
    },
    {
     "name": "stderr",
     "output_type": "stream",
     "text": [
      " 88%|███████████████████████████████████████████████████████████████████████████████████████████████████████████████████████████████▊                  | 7/8 [00:01<00:00,  3.68it/s]"
     ]
    },
    {
     "name": "stdout",
     "output_type": "stream",
     "text": [
      "x.shape=torch.Size([105, 8, 512])\n",
      "a.shape=torch.Size([1, 8, 512])\n"
     ]
    },
    {
     "name": "stderr",
     "output_type": "stream",
     "text": [
      "100%|██████████████████████████████████████████████████████████████████████████████████████████████████████████████████████████████████████████████████| 8/8 [00:01<00:00,  4.17it/s]\n"
     ]
    },
    {
     "name": "stdout",
     "output_type": "stream",
     "text": [
      "x.shape=torch.Size([18, 8, 512])\n",
      "a.shape=torch.Size([1, 8, 512])\n",
      "x.shape=torch.Size([22, 8, 512])\n",
      "a.shape=torch.Size([1, 8, 512])\n",
      "x.shape=torch.Size([30, 8, 512])\n",
      "a.shape=torch.Size([1, 8, 512])\n",
      "x.shape=torch.Size([34, 8, 512])\n",
      "a.shape=torch.Size([1, 8, 512])\n",
      "x.shape=torch.Size([39, 8, 512])\n",
      "a.shape=torch.Size([1, 8, 512])\n",
      "x.shape=torch.Size([46, 8, 512])\n",
      "a.shape=torch.Size([1, 8, 512])\n",
      "x.shape=torch.Size([68, 8, 512])\n",
      "a.shape=torch.Size([1, 8, 512])\n",
      "x.shape=torch.Size([105, 8, 512])\n",
      "a.shape=torch.Size([1, 8, 512])\n",
      "Epoch: 08 | Time: 0m 2s\n",
      "\tAccuracy 0.375\n",
      "\tTrain Loss: 5.594 | Train PPL: 268.853\n",
      "\tVal. Loss: 5.594 |  Val. PPL: 268.841\n"
     ]
    },
    {
     "name": "stderr",
     "output_type": "stream",
     "text": [
      "  0%|                                                                                                                                                          | 0/8 [00:00<?, ?it/s]"
     ]
    },
    {
     "name": "stdout",
     "output_type": "stream",
     "text": [
      "x.shape=torch.Size([18, 8, 512])\n",
      "a.shape=torch.Size([1, 8, 512])\n"
     ]
    },
    {
     "name": "stderr",
     "output_type": "stream",
     "text": [
      " 12%|██████████████████▎                                                                                                                               | 1/8 [00:00<00:00,  7.18it/s]"
     ]
    },
    {
     "name": "stdout",
     "output_type": "stream",
     "text": [
      "x.shape=torch.Size([22, 8, 512])\n",
      "a.shape=torch.Size([1, 8, 512])\n"
     ]
    },
    {
     "name": "stderr",
     "output_type": "stream",
     "text": [
      " 25%|████████████████████████████████████▌                                                                                                             | 2/8 [00:00<00:00,  6.61it/s]"
     ]
    },
    {
     "name": "stdout",
     "output_type": "stream",
     "text": [
      "x.shape=torch.Size([30, 8, 512])\n",
      "a.shape=torch.Size([1, 8, 512])\n"
     ]
    },
    {
     "name": "stderr",
     "output_type": "stream",
     "text": [
      " 38%|██████████████████████████████████████████████████████▊                                                                                           | 3/8 [00:00<00:00,  6.32it/s]"
     ]
    },
    {
     "name": "stdout",
     "output_type": "stream",
     "text": [
      "x.shape=torch.Size([34, 8, 512])\n",
      "a.shape=torch.Size([1, 8, 512])\n"
     ]
    },
    {
     "name": "stderr",
     "output_type": "stream",
     "text": [
      " 50%|█████████████████████████████████████████████████████████████████████████                                                                         | 4/8 [00:00<00:00,  5.90it/s]"
     ]
    },
    {
     "name": "stdout",
     "output_type": "stream",
     "text": [
      "x.shape=torch.Size([39, 8, 512])\n",
      "a.shape=torch.Size([1, 8, 512])\n"
     ]
    },
    {
     "name": "stderr",
     "output_type": "stream",
     "text": [
      " 62%|███████████████████████████████████████████████████████████████████████████████████████████▎                                                      | 5/8 [00:00<00:00,  5.49it/s]"
     ]
    },
    {
     "name": "stdout",
     "output_type": "stream",
     "text": [
      "x.shape=torch.Size([46, 8, 512])\n",
      "a.shape=torch.Size([1, 8, 512])\n"
     ]
    },
    {
     "name": "stderr",
     "output_type": "stream",
     "text": [
      " 75%|█████████████████████████████████████████████████████████████████████████████████████████████████████████████▌                                    | 6/8 [00:01<00:00,  5.11it/s]"
     ]
    },
    {
     "name": "stdout",
     "output_type": "stream",
     "text": [
      "x.shape=torch.Size([68, 8, 512])\n",
      "a.shape=torch.Size([1, 8, 512])\n"
     ]
    },
    {
     "name": "stderr",
     "output_type": "stream",
     "text": [
      " 88%|███████████████████████████████████████████████████████████████████████████████████████████████████████████████████████████████▊                  | 7/8 [00:01<00:00,  4.32it/s]"
     ]
    },
    {
     "name": "stdout",
     "output_type": "stream",
     "text": [
      "x.shape=torch.Size([105, 8, 512])\n",
      "a.shape=torch.Size([1, 8, 512])\n"
     ]
    },
    {
     "name": "stderr",
     "output_type": "stream",
     "text": [
      "100%|██████████████████████████████████████████████████████████████████████████████████████████████████████████████████████████████████████████████████| 8/8 [00:01<00:00,  4.61it/s]\n"
     ]
    },
    {
     "name": "stdout",
     "output_type": "stream",
     "text": [
      "x.shape=torch.Size([18, 8, 512])\n",
      "a.shape=torch.Size([1, 8, 512])\n",
      "x.shape=torch.Size([22, 8, 512])\n",
      "a.shape=torch.Size([1, 8, 512])\n",
      "x.shape=torch.Size([30, 8, 512])\n",
      "a.shape=torch.Size([1, 8, 512])\n",
      "x.shape=torch.Size([34, 8, 512])\n",
      "a.shape=torch.Size([1, 8, 512])\n",
      "x.shape=torch.Size([39, 8, 512])\n",
      "a.shape=torch.Size([1, 8, 512])\n",
      "x.shape=torch.Size([46, 8, 512])\n",
      "a.shape=torch.Size([1, 8, 512])\n",
      "x.shape=torch.Size([68, 8, 512])\n",
      "a.shape=torch.Size([1, 8, 512])\n",
      "x.shape=torch.Size([105, 8, 512])\n",
      "a.shape=torch.Size([1, 8, 512])\n",
      "Epoch: 09 | Time: 0m 2s\n",
      "\tAccuracy 0.375\n",
      "\tTrain Loss: 5.594 | Train PPL: 268.831\n",
      "\tVal. Loss: 5.594 |  Val. PPL: 268.818\n"
     ]
    },
    {
     "name": "stderr",
     "output_type": "stream",
     "text": [
      "  0%|                                                                                                                                                          | 0/8 [00:00<?, ?it/s]"
     ]
    },
    {
     "name": "stdout",
     "output_type": "stream",
     "text": [
      "x.shape=torch.Size([18, 8, 512])\n",
      "a.shape=torch.Size([1, 8, 512])\n"
     ]
    },
    {
     "name": "stderr",
     "output_type": "stream",
     "text": [
      " 12%|██████████████████▎                                                                                                                               | 1/8 [00:00<00:01,  6.49it/s]"
     ]
    },
    {
     "name": "stdout",
     "output_type": "stream",
     "text": [
      "x.shape=torch.Size([22, 8, 512])\n",
      "a.shape=torch.Size([1, 8, 512])\n"
     ]
    },
    {
     "name": "stderr",
     "output_type": "stream",
     "text": [
      " 25%|████████████████████████████████████▌                                                                                                             | 2/8 [00:00<00:00,  6.32it/s]"
     ]
    },
    {
     "name": "stdout",
     "output_type": "stream",
     "text": [
      "x.shape=torch.Size([30, 8, 512])\n",
      "a.shape=torch.Size([1, 8, 512])\n"
     ]
    },
    {
     "name": "stderr",
     "output_type": "stream",
     "text": [
      " 38%|██████████████████████████████████████████████████████▊                                                                                           | 3/8 [00:00<00:00,  5.84it/s]"
     ]
    },
    {
     "name": "stdout",
     "output_type": "stream",
     "text": [
      "x.shape=torch.Size([34, 8, 512])\n",
      "a.shape=torch.Size([1, 8, 512])\n"
     ]
    },
    {
     "name": "stderr",
     "output_type": "stream",
     "text": [
      " 50%|█████████████████████████████████████████████████████████████████████████                                                                         | 4/8 [00:00<00:00,  5.69it/s]"
     ]
    },
    {
     "name": "stdout",
     "output_type": "stream",
     "text": [
      "x.shape=torch.Size([39, 8, 512])\n",
      "a.shape=torch.Size([1, 8, 512])\n"
     ]
    },
    {
     "name": "stderr",
     "output_type": "stream",
     "text": [
      " 75%|█████████████████████████████████████████████████████████████████████████████████████████████████████████████▌                                    | 6/8 [00:01<00:00,  4.89it/s]"
     ]
    },
    {
     "name": "stdout",
     "output_type": "stream",
     "text": [
      "x.shape=torch.Size([46, 8, 512])\n",
      "a.shape=torch.Size([1, 8, 512])\n",
      "x.shape=torch.Size([68, 8, 512])\n",
      "a.shape=torch.Size([1, 8, 512])\n"
     ]
    },
    {
     "name": "stderr",
     "output_type": "stream",
     "text": [
      " 88%|███████████████████████████████████████████████████████████████████████████████████████████████████████████████████████████████▊                  | 7/8 [00:01<00:00,  4.08it/s]"
     ]
    },
    {
     "name": "stdout",
     "output_type": "stream",
     "text": [
      "x.shape=torch.Size([105, 8, 512])\n",
      "a.shape=torch.Size([1, 8, 512])\n"
     ]
    },
    {
     "name": "stderr",
     "output_type": "stream",
     "text": [
      "100%|██████████████████████████████████████████████████████████████████████████████████████████████████████████████████████████████████████████████████| 8/8 [00:01<00:00,  4.20it/s]\n"
     ]
    },
    {
     "name": "stdout",
     "output_type": "stream",
     "text": [
      "x.shape=torch.Size([18, 8, 512])\n",
      "a.shape=torch.Size([1, 8, 512])\n",
      "x.shape=torch.Size([22, 8, 512])\n",
      "a.shape=torch.Size([1, 8, 512])\n",
      "x.shape=torch.Size([30, 8, 512])\n",
      "a.shape=torch.Size([1, 8, 512])\n",
      "x.shape=torch.Size([34, 8, 512])\n",
      "a.shape=torch.Size([1, 8, 512])\n",
      "x.shape=torch.Size([39, 8, 512])\n",
      "a.shape=torch.Size([1, 8, 512])\n",
      "x.shape=torch.Size([46, 8, 512])\n",
      "a.shape=torch.Size([1, 8, 512])\n",
      "x.shape=torch.Size([68, 8, 512])\n",
      "a.shape=torch.Size([1, 8, 512])\n",
      "x.shape=torch.Size([105, 8, 512])\n",
      "a.shape=torch.Size([1, 8, 512])\n",
      "Epoch: 10 | Time: 0m 2s\n",
      "\tAccuracy 0.375\n",
      "\tTrain Loss: 5.594 | Train PPL: 268.808\n",
      "\tVal. Loss: 5.594 |  Val. PPL: 268.793\n"
     ]
    }
   ],
   "source": [
    "with open('cwe_metrics.csv', 'w') as file:\n",
    "    writer = csv.writer(file, delimiter=';')\n",
    "    train_with_evaluation(model, EPOCH, optimizer, criterion,\n",
    "                          CLIP_GRAD, check_iterator, check_iterator, writer)"
   ]
  },
  {
   "cell_type": "code",
   "execution_count": 5,
   "id": "5f0e3a7a",
   "metadata": {},
   "outputs": [],
   "source": [
    "import pandas as pd\n",
    "import matplotlib.pyplot as plt\n",
    "\n",
    "df = pd.read_csv('cwe_metrics.csv', delimiter=';')"
   ]
  },
  {
   "cell_type": "code",
   "execution_count": 7,
   "id": "2713fd8b",
   "metadata": {},
   "outputs": [
    {
     "data": {
      "text/plain": [
       "[<matplotlib.lines.Line2D at 0x12eba65b0>]"
      ]
     },
     "execution_count": 7,
     "metadata": {},
     "output_type": "execute_result"
    },
    {
     "data": {
      "image/png": "[encoded data removed]",
      "text/plain": [
       "<Figure size 432x288 with 1 Axes>"
      ]
     },
     "metadata": {
      "needs_background": "light"
     },
     "output_type": "display_data"
    }
   ],
   "source": [
    "plt.plot(df['val. acc.'])\n",
    "plt.plot(df['train acc.'])\n"
   ]
  },
  {
   "cell_type": "code",
   "execution_count": 12,
   "id": "824036aa",
   "metadata": {},
   "outputs": [
    {
     "data": {
      "text/plain": [
       "[<matplotlib.lines.Line2D at 0x12ed07d90>]"
      ]
     },
     "execution_count": 12,
     "metadata": {},
     "output_type": "execute_result"
    },
    {
     "data": {
      "image/png": "[encoded data removed]",
      "text/plain": [
       "<Figure size 432x288 with 1 Axes>"
      ]
     },
     "metadata": {
      "needs_background": "light"
     },
     "output_type": "display_data"
    }
   ],
   "source": [
    "plt.plot(df['val. loss'][:-1])\n",
    "plt.plot(df['train loss'])"
   ]
  },
  {
   "cell_type": "code",
   "execution_count": null,
   "id": "f4a4d3d8",
   "metadata": {},
   "outputs": [],
   "source": []
  }
 ],
 "metadata": {
  "kernelspec": {
   "display_name": "conda_env",
   "language": "python",
   "name": "conda_env"
  },
  "language_info": {
   "codemirror_mode": {
    "name": "ipython",
    "version": 3
   },
   "file_extension": ".py",
   "mimetype": "text/x-python",
   "name": "python",
   "nbconvert_exporter": "python",
   "pygments_lexer": "ipython3",
   "version": "3.8.10"
  }
 },
 "nbformat": 4,
 "nbformat_minor": 5
}
